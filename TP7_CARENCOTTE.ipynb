{
 "cells": [
  {
   "cell_type": "code",
   "execution_count": 3,
   "metadata": {},
   "outputs": [],
   "source": [
    "import crocoddyl\n",
    "import pinocchio\n",
    "import numpy as np\n",
    "import example_robot_data as robex\n",
    "from tp3.meshcat_viewer_wrapper import MeshcatVisualizer\n",
    "import tp7.croco_utils as crocutils"
   ]
  },
  {
   "cell_type": "markdown",
   "metadata": {},
   "source": [
    "Load and set the robot "
   ]
  },
  {
   "cell_type": "code",
   "execution_count": 4,
   "metadata": {},
   "outputs": [
    {
     "name": "stdout",
     "output_type": "stream",
     "text": [
      "You can open the visualizer by visiting the following URL:\n",
      "http://127.0.0.1:7001/static/\n"
     ]
    },
    {
     "data": {
      "text/html": [
       "\n",
       "            <div style=\"height: 400px; width: 100%; overflow-x: auto; overflow-y: hidden; resize: both\">\n",
       "            <iframe src=\"http://127.0.0.1:7001/static/\" style=\"width: 100%; height: 100%; border: none\"></iframe>\n",
       "            </div>\n",
       "            "
      ],
      "text/plain": [
       "<IPython.core.display.HTML object>"
      ]
     },
     "execution_count": 4,
     "metadata": {},
     "output_type": "execute_result"
    }
   ],
   "source": [
    "robot = robex.load('talos_arm')\n",
    "robot_model = robot.model\n",
    "\n",
    "robot_model.armature =np.array([1.0, 1.0, 1.0, 1.0, 1.0, 1.0, 0.])*5\n",
    "robot_model.q0 = np.array([3.5,2,2,0,0,0,0])\n",
    "robot_model.x0 = np.concatenate([robot_model.q0, np.zeros(robot_model.nv)])\n",
    "robot_model.gravity *= 0\n",
    "\n",
    "viz = MeshcatVisualizer(robot)\n",
    "viz.display(robot_model.q0)\n",
    "viz.viewer.jupyter_cell()"
   ]
  },
  {
   "cell_type": "markdown",
   "metadata": {},
   "source": [
    "Targets definition"
   ]
  },
  {
   "cell_type": "code",
   "execution_count": 5,
   "metadata": {},
   "outputs": [],
   "source": [
    "FRAME_TIP = robot_model.getFrameId(\"gripper_left_fingertip_3_link\")\n",
    "goals = np.array([[.4,0,.4],[.4,.4,.4],[0.,.0,.4],[0,.4,.4]])\n",
    "viz.addBox('world/goal',[.1,.1,.1],[0,1,0,1])\n",
    "viz.applyConfiguration('world/goal',[0.4,0,.4,0,0,0,1])\n",
    "viz.addBox('world/goal2',[.1,.1,.1],[0,1,0,1])\n",
    "viz.applyConfiguration('world/goal2',[0.4,0.4,.4,0,0,0,1])\n",
    "viz.addBox('world/goal3',[.1,.1,.1],[0,1,0,1])\n",
    "viz.applyConfiguration('world/goal3',[0,0,.4,0,0,0,1])\n",
    "viz.addBox('world/goal4',[.1,.1,.1],[0,1,0,1])\n",
    "viz.applyConfiguration('world/goal4',[0,0.4,.4,0,0,0,1])\n",
    "viz.display(robot_model.q0)"
   ]
  },
  {
   "cell_type": "markdown",
   "metadata": {},
   "source": [
    "Models creation"
   ]
  },
  {
   "cell_type": "code",
   "execution_count": 6,
   "metadata": {},
   "outputs": [],
   "source": [
    "state = crocoddyl.StateMultibody(robot_model)\n",
    "runningCostModels = [crocoddyl.CostModelSum(state) for i in range(4)]\n",
    "terminalCostModels = [crocoddyl.CostModelSum(state) for i in range(4)]"
   ]
  },
  {
   "cell_type": "markdown",
   "metadata": {},
   "source": [
    "Costs definition"
   ]
  },
  {
   "cell_type": "code",
   "execution_count": 7,
   "metadata": {},
   "outputs": [],
   "source": [
    "### Cost for reaching the target\n",
    "Mref = crocoddyl.FramePlacement(FRAME_TIP,pinocchio.SE3(np.eye(3), goals[0]))\n",
    "prefs = [crocoddyl.FrameTranslation(FRAME_TIP,goals[i]) for i in range(4)]\n",
    "goalTrackingCosts = [crocoddyl.CostModelFrameTranslation(state, prefs[i]) for i in range(4)]\n",
    "\n",
    "### Cost for regularizing the state about robot_model.x0\n",
    "weights=crocoddyl.ActivationModelWeightedQuad(np.array([1,1,1,1,1,1,1, 1,1,1,1,2,2,2.]))\n",
    "xRegCost = crocoddyl.CostModelState(state,weights,robot_model.x0)\n",
    "\n",
    "### Cost for keeping the control low\n",
    "uRegCost = crocoddyl.CostModelControl(state)\n",
    "\n",
    "for i in range(4):\n",
    "    runningCostModels[i].addCost(\"gripperPose\", goalTrackingCosts[i], 0.001)\n",
    "    runningCostModels[i].addCost(\"xReg\", xRegCost, 5e-2)\n",
    "    runningCostModels[i].addCost(\"uReg\", uRegCost, 1e-5)\n",
    "\n",
    "    terminalCostModels[i].addCost(\"gripperPose\", goalTrackingCosts[i], 40)\n",
    "\n",
    "actuationModel = crocoddyl.ActuationModelFull(state)\n",
    "dt = 1e-2\n",
    "runningModels = [crocoddyl.IntegratedActionModelEuler(\n",
    "    crocoddyl.DifferentialActionModelFreeFwdDynamics(state, actuationModel, runningCostModels[i]), dt) for i in range(4)]\n",
    "\n",
    "for i in range(4):\n",
    "    runningModels[i].differential.armature = robot_model.armature\n",
    "\n",
    "terminalModels = [crocoddyl.IntegratedActionModelEuler(\n",
    "    crocoddyl.DifferentialActionModelFreeFwdDynamics(state, actuationModel, terminalCostModels[i]), 0.) for i in range(4)]\n",
    "\n",
    "for i in range(4):\n",
    "    terminalModels[i].differential.armature = robot_model.armature"
   ]
  },
  {
   "cell_type": "markdown",
   "metadata": {},
   "source": [
    "Shooting problem creation"
   ]
  },
  {
   "cell_type": "code",
   "execution_count": 8,
   "metadata": {},
   "outputs": [],
   "source": [
    "T = 100\n",
    "\n",
    "seq0 = [runningModels[0]]*T + [terminalModels[0]]\n",
    "seq1 = [runningModels[1]]*T + [terminalModels[1]]\n",
    "seq2 = [runningModels[2]]*T + [terminalModels[2]]\n",
    "seq3 = [runningModels[3]]*T \n",
    "problem = crocoddyl.ShootingProblem(robot_model.x0,seq0+seq1+seq2+seq3,terminalModels[3])"
   ]
  },
  {
   "cell_type": "markdown",
   "metadata": {},
   "source": [
    "DDP solver creation"
   ]
  },
  {
   "cell_type": "code",
   "execution_count": 9,
   "metadata": {},
   "outputs": [
    {
     "data": {
      "text/plain": [
       "True"
      ]
     },
     "execution_count": 9,
     "metadata": {},
     "output_type": "execute_result"
    }
   ],
   "source": [
    "ddp = crocoddyl.SolverDDP(problem)\n",
    "ddp.setCallbacks([\n",
    "    crocoddyl.CallbackLogger(),\n",
    "    crocoddyl.CallbackVerbose(),\n",
    "])\n",
    "ddp.solve([],[],1000)"
   ]
  },
  {
   "cell_type": "markdown",
   "metadata": {},
   "source": [
    "Visualization of the solution"
   ]
  },
  {
   "cell_type": "code",
   "execution_count": 10,
   "metadata": {},
   "outputs": [],
   "source": [
    "crocutils.displayTrajectory(viz,ddp.xs,ddp.problem.runningModels[0].dt,12)"
   ]
  }
 ],
 "metadata": {
  "kernelspec": {
   "display_name": "Python 3",
   "language": "python",
   "name": "python3"
  },
  "language_info": {
   "codemirror_mode": {
    "name": "ipython",
    "version": 3
   },
   "file_extension": ".py",
   "mimetype": "text/x-python",
   "name": "python",
   "nbconvert_exporter": "python",
   "pygments_lexer": "ipython3",
   "version": "3.6.9"
  },
  "widgets": {
   "application/vnd.jupyter.widget-state+json": {
    "state": {},
    "version_major": 2,
    "version_minor": 0
   }
  }
 },
 "nbformat": 4,
 "nbformat_minor": 4
}
