{
 "cells": [
  {
   "cell_type": "code",
   "execution_count": 1,
   "metadata": {},
   "outputs": [],
   "source": [
    "import math\n",
    "import time\n",
    "import numpy as np\n",
    "from numpy.linalg import norm,inv,pinv,svd,eig\n",
    "import pinocchio as pin\n",
    "import example_robot_data as robex\n",
    "from scipy.optimize import fmin_bfgs\n",
    "import tp2.load_ur5_parallel as robex2\n",
    "from tp2.meshcat_viewer_wrapper import *\n",
    "from pinocchio import SE3, Quaternion"
   ]
  },
  {
   "cell_type": "markdown",
   "metadata": {},
   "source": [
    "Récupération et affichage du robot et de la plaque"
   ]
  },
  {
   "cell_type": "code",
   "execution_count": 2,
   "metadata": {},
   "outputs": [
    {
     "name": "stdout",
     "output_type": "stream",
     "text": [
      "You can open the visualizer by visiting the following URL:\n",
      "http://127.0.0.1:7000/static/\n"
     ]
    }
   ],
   "source": [
    "robot = robex2.load()\n",
    "viz = MeshcatVisualizer(robot)\n",
    "viz.display(robot.q0)\n",
    "[w, h, d] = [0.5, 0.5, 0.005]\n",
    "color = [red, green, blue, transparency] = [1, 1, 0.78, .8]\n",
    "viz.addBox('world/robot0/toolplate', [w, h, d], color)\n",
    "Mtool = pin.SE3(pin.utils.rotate('z', 1.268), np.array([0, 0, .75]))\n",
    "viz.applyConfiguration('world/robot0/toolplate', Mtool)"
   ]
  },
  {
   "cell_type": "code",
   "execution_count": 3,
   "metadata": {},
   "outputs": [
    {
     "data": {
      "text/html": [
       "\n",
       "            <div style=\"height: 400px; width: 100%; overflow-x: auto; overflow-y: hidden; resize: both\">\n",
       "            <iframe src=\"http://127.0.0.1:7000/static/\" style=\"width: 100%; height: 100%; border: none\"></iframe>\n",
       "            </div>\n",
       "            "
      ],
      "text/plain": [
       "<IPython.core.display.HTML object>"
      ]
     },
     "execution_count": 3,
     "metadata": {},
     "output_type": "execute_result"
    }
   ],
   "source": [
    "viz.viewer.jupyter_cell()"
   ]
  },
  {
   "cell_type": "markdown",
   "metadata": {},
   "source": [
    "Nouvelle position de la plaque"
   ]
  },
  {
   "cell_type": "code",
   "execution_count": 4,
   "metadata": {},
   "outputs": [],
   "source": [
    "quat = pin.Quaternion(0.7,0.2,0.2,0.6).normalized()\n",
    "R  = quat.matrix()                # Create a rotation matrix from quaternion\n",
    "p  = np.array([0.,0.,0.75])     # Translation (R3) vector)\n",
    "Mtarget  = SE3(R,p)\n",
    "viz.applyConfiguration('world/robot0/toolplate', Mtarget)"
   ]
  },
  {
   "cell_type": "markdown",
   "metadata": {},
   "source": [
    "Récupération des positions des 4 effecteurs : "
   ]
  },
  {
   "cell_type": "code",
   "execution_count": 5,
   "metadata": {},
   "outputs": [],
   "source": [
    "effIdxs = [ robot.model.getFrameId('tool0_#%d' % i) for i in range(4)]"
   ]
  },
  {
   "cell_type": "markdown",
   "metadata": {},
   "source": [
    "On veut conserver la position relatives des 4 effecteurs par rapport à la plaque. La première étape est donc de calculer ces positions (stockées dans rsMbox)"
   ]
  },
  {
   "cell_type": "code",
   "execution_count": 6,
   "metadata": {},
   "outputs": [],
   "source": [
    "oMrs = [robot.framePlacement(robot.q0,effIdxs[i]) for i in range(4)]\n",
    "rsMbox_ref = [oMrs[i].inverse()*Mtool for i in range(4)]"
   ]
  },
  {
   "cell_type": "markdown",
   "metadata": {},
   "source": [
    "La fonction de coût correspond à la distance entre la position relative des effecteurs et celle voulue "
   ]
  },
  {
   "cell_type": "code",
   "execution_count": 9,
   "metadata": {},
   "outputs": [
    {
     "name": "stdout",
     "output_type": "stream",
     "text": [
      "Warning: Desired error not necessarily achieved due to precision loss.\n",
      "         Current function value: 0.000000\n",
      "         Iterations: 117\n",
      "         Function evaluations: 5576\n",
      "         Gradient evaluations: 214\n",
      "The final cost is \n",
      " 2.0129846912418905e-07\n"
     ]
    }
   ],
   "source": [
    "def cost(q):\n",
    "  '''Compute score from a configuration'''\n",
    "  cost = 0\n",
    "  oMrs = [robot.framePlacement(q,effIdxs[i]) for i in range(4)]\n",
    "  rsMbox = [oMrs[i].inverse()*Mtarget for i in range(4)]\n",
    "  for i in range(4):\n",
    "    cost += norm(pin.log(rsMbox[i].inverse() * rsMbox_ref[i]).vector)\n",
    "  return cost\n",
    "\n",
    "def callback(q):\n",
    "  viz.display(q)\n",
    "  time.sleep(1e-1)\n",
    "\n",
    "\n",
    "qopt = fmin_bfgs(cost, robot.q0, callback=callback)\n",
    "print('The final cost is \\n',cost(qopt))"
   ]
  },
  {
   "cell_type": "markdown",
   "metadata": {},
   "source": [
    "Remarque : malgré le warning, l'optimisation donne bien un résultat satisfaisant. Pour ne plus avoir le warning, une solution est de considérer la norme au carré, et non juste la norme. Cela permet en plus d'accélérer l'optimisation."
   ]
  }
 ],
 "metadata": {
  "kernelspec": {
   "display_name": "Python 3",
   "language": "python",
   "name": "python3"
  },
  "language_info": {
   "codemirror_mode": {
    "name": "ipython",
    "version": 3
   },
   "file_extension": ".py",
   "mimetype": "text/x-python",
   "name": "python",
   "nbconvert_exporter": "python",
   "pygments_lexer": "ipython3",
   "version": "3.6.9"
  }
 },
 "nbformat": 4,
 "nbformat_minor": 4
}
