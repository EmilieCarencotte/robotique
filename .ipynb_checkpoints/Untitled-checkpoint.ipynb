{
 "cells": [
  {
   "cell_type": "code",
   "execution_count": 1,
   "metadata": {},
   "outputs": [],
   "source": [
    "import math\n",
    "import time\n",
    "import numpy as np\n",
    "from numpy.linalg import norm,inv,pinv,svd,eig\n",
    "import pinocchio as pin\n",
    "import example_robot_data as robex\n",
    "from scipy.optimize import fmin_bfgs,fmin_slsqp\n",
    "import matplotlib.pylab as plt\n",
    "plt.ion()\n"
   ]
  },
  {
   "cell_type": "code",
   "execution_count": 2,
   "metadata": {},
   "outputs": [],
   "source": [
    "%config Completer.use_jedi = False\n"
   ]
  },
  {
   "cell_type": "code",
   "execution_count": null,
   "metadata": {},
   "outputs": [],
   "source": []
  },
  {
   "cell_type": "code",
   "execution_count": 3,
   "metadata": {},
   "outputs": [],
   "source": [
    "from pinocchio.robot_wrapper import RobotWrapper\n",
    "my_robot = RobotWrapper.BuildFromURDF('schunk.urdf', '.', None)"
   ]
  },
  {
   "cell_type": "code",
   "execution_count": 4,
   "metadata": {},
   "outputs": [
    {
     "name": "stdout",
     "output_type": "stream",
     "text": [
      "You can open the visualizer by visiting the following URL:\n",
      "http://127.0.0.1:7001/static/\n"
     ]
    },
    {
     "data": {
      "text/html": [
       "\n",
       "            <div style=\"height: 400px; width: 100%; overflow-x: auto; overflow-y: hidden; resize: both\">\n",
       "            <iframe src=\"http://127.0.0.1:7001/static/\" style=\"width: 100%; height: 100%; border: none\"></iframe>\n",
       "            </div>\n",
       "            "
      ],
      "text/plain": [
       "<IPython.core.display.HTML object>"
      ]
     },
     "execution_count": 4,
     "metadata": {},
     "output_type": "execute_result"
    }
   ],
   "source": [
    "from tp2.meshcat_viewer_wrapper import *\n",
    "viz = MeshcatVisualizer(my_robot)\n",
    "q = np.array([0., 1.57, 0, 0, 0, 0])\n",
    "\n",
    "viz.display(q)\n",
    "\n",
    "viz.viewer.jupyter_cell()"
   ]
  },
  {
   "cell_type": "code",
   "execution_count": 5,
   "metadata": {},
   "outputs": [],
   "source": [
    "q = np.array([0, 0, 0, 0.0, -0.0, 0.])\n",
    "\n",
    "viz.display(q)\n",
    "\n",
    "tableID = \"world/table\"\n",
    "viz.addBox(tableID, [1, 0.5, 0.1], colors.green)\n",
    "q_table = [-0.4, 0.15, 0.7, 1, 0, 0, 0]\n",
    "viz.applyConfiguration (tableID, q_table)\n",
    "\n",
    "feets = ['world/feet%s'%i for i in range(4)]\n",
    "qs = [[0.05, -0.85], [0.35, -0.05]]\n",
    "qs_f = [[qs[0][i%2], qs[1][i//2], 0.325, 1, 0, 0, 0] for i in range(4)]\n",
    "for i in range(4):\n",
    "    viz.addBox(feets[i], [0.1, 0.1, 0.65], colors.blue)\n",
    "    viz.applyConfiguration (feets[i], qs_f[i])\n",
    "\n",
    "cylinders = ['world/cylinder%s'%i for i in range(9)]\n",
    "qs = [[-0.4, -0.6, -0.5], [0.05, 0.15, 0.25]]\n",
    "qs_c = [[qs[0][i%3], qs[1][i//3], 0.8, 0.707, 0, 0, 0.707] for i in range(9)]\n",
    "for i in range(9):\n",
    "    viz.addCylinder(cylinders[i], 0.065, 0.045, colors.red)\n",
    "    viz.applyConfiguration (cylinders[i], qs_c[i])\n",
    "\n",
    "charriot = \"world/charriot\"\n",
    "viz.addBox(charriot, [0.5, 0.25, 0.3], colors.black)\n",
    "q = [0, -0.5, 0.15, 1, 0, 0, 0]\n",
    "viz.applyConfiguration (charriot, q)\n",
    "\n",
    "cylinders_out = ['world/cylinder_out%s'%i for i in range(9)]\n",
    "qs = [[-0.2, -0.1, 0, 0.1, 0.2, 0.3], [-0.45, -0.55]]\n",
    "qs_o = [[qs[0][i%5], qs[1][i//5], 0.375, 0.707, 0, 0, 0.707] for i in range(9)]\n",
    "for i in range(9):\n",
    "    viz.addCylinder(cylinders_out[i], 0.15, 0.045, colors.white)\n",
    "    viz.applyConfiguration (cylinders_out[i], qs_o[i])\n"
   ]
  },
  {
   "cell_type": "code",
   "execution_count": 28,
   "metadata": {},
   "outputs": [],
   "source": [
    "id=my_robot.model.getFrameId('arm_6_link')\n",
    "\n",
    "Mtarget = pin.XYZQUATToSE3([-0.4, 0.05, 0.99, 1, 0, 0, 0])\n",
    "#target = [-0.4, 0.05, 0.99]\n",
    "#Mtarget.rotation[0][0] = -1\n",
    "#Mtarget.rotation[1][1] = 1\n",
    "#Mtarget.rotation[2][2] = -1\n",
    "\n",
    "DT = 0.004\n",
    "\n",
    "# %load -r 36-62 tp3/inverse_kinematics.py\n",
    "q = np.array([0, 0.5, 0.5, 0.5, 0, 0])\n",
    "viz.display(q)\n",
    "vs = []\n",
    "\n",
    "herr = [] # Log the value of the error between tool and goal.\n",
    "# Loop on an inverse kinematics for 200 iterations.\n",
    "for i in range(400):  # Integrate over 2 second of robot life\n",
    "\n",
    "  # Run the algorithms that outputs values in robot.data\n",
    "    my_robot.forwardKinematics(q)\n",
    "    my_robot.framesForwardKinematics(q)\n",
    "    my_robot.computeJointJacobians(q)\n",
    "\n",
    "    # Placement from world frame o to frame f oMtool\n",
    "    oMtool = my_robot.framePlacement(q,id)\n",
    "    toolMgoal = oMtool.inverse()*Mtarget\n",
    "    #print(toolMgoal)\n",
    "    \n",
    "    tool_nu = pin.log(toolMgoal).vector\n",
    "\n",
    "    # 3D jacobian in world frame\n",
    "    o_Jtool3 = my_robot.getFrameJacobian(id,pin.LOCAL_WORLD_ALIGNED)\n",
    "    #print(o_Jtool3)\n",
    "    #print()\n",
    "    #print(pinv(o_Jtool3))\n",
    "    # Control law by least square\n",
    "    vq = pinv(o_Jtool3)@tool_nu\n",
    "    #vq = toolMgoal@o_Jtool3\n",
    "    #print(vq)\n",
    "    #for v in range(len(vq)):\n",
    "    #    vq[v] = min(1,vq[v])\n",
    "    #    vq[v] = max(1,vq[v])\n",
    "    vs.append(oMtool.translation)\n",
    "    q = pin.integrate(my_robot.model,q, vq * DT)\n",
    "    viz.display(q)\n",
    "    time.sleep(1e-3)\n",
    "    herr.append(tool_nu)  "
   ]
  },
  {
   "cell_type": "code",
   "execution_count": 27,
   "metadata": {},
   "outputs": [
    {
     "data": {
      "text/plain": [
       "[<matplotlib.lines.Line2D at 0x7f475ffe0470>,\n",
       " <matplotlib.lines.Line2D at 0x7f475ffe05f8>,\n",
       " <matplotlib.lines.Line2D at 0x7f475ffe0748>,\n",
       " <matplotlib.lines.Line2D at 0x7f475ffe0898>,\n",
       " <matplotlib.lines.Line2D at 0x7f475ffe09e8>,\n",
       " <matplotlib.lines.Line2D at 0x7f475ffe0b38>]"
      ]
     },
     "execution_count": 27,
     "metadata": {},
     "output_type": "execute_result"
    },
    {
     "data": {
      "image/png": "[encoded data removed]",
      "text/plain": [
       "<matplotlib.figure.Figure at 0x7f47bc34fb70>"
      ]
     },
     "metadata": {
      "needs_background": "light"
     },
     "output_type": "display_data"
    }
   ],
   "source": [
    "plt.plot(herr[:3])"
   ]
  },
  {
   "cell_type": "code",
   "execution_count": null,
   "metadata": {},
   "outputs": [],
   "source": [
    "q = np.array([0,0,0,0,0,0])\n",
    "id=my_robot.model.getFrameId('arm_5_link')\n",
    "my_robot.forwardKinematics(q)\n",
    "my_robot.framesForwardKinematics(q)\n",
    "my_robot.computeJointJacobians(q)\n",
    "A = my_robot.getFrameJacobian(id,pin.LOCAL_WORLD_ALIGNED)[:3,:]\n",
    "print(inv(A@np.transpose(A))@A)\n",
    "print()\n",
    "print(pinv(my_robot.getFrameJacobian(id,pin.LOCAL_WORLD_ALIGNED)[:3,:]))\n",
    "print()\n",
    "print(my_robot.framePlacement(np.zeros(6),id).translation)"
   ]
  },
  {
   "cell_type": "code",
   "execution_count": null,
   "metadata": {},
   "outputs": [],
   "source": [
    "q_obj = [-0.13741078,-0.61190652,1.80567917,0.,0.72400697,0.]\n",
    "q = np.array([0.0, 0.0, 0.0, 0.0, 0.0,0.0])\n",
    "herr = []\n",
    "vs = []\n",
    "DT = 0.004\n",
    "omega = 0.1\n",
    "xi = 0.6\n",
    "prev_v = 0\n",
    "prev_prev_v = 0\n",
    "iq = q\n",
    "Kd = 10\n",
    "Kp = 20\n",
    "Ki = 10\n",
    "N = 700\n",
    "#v_obj = abs(q_obj-q)/(N*DT)\n",
    "v_obj = 0.9\n",
    "v = 0\n",
    "print(v_obj)\n",
    "j = 0\n",
    "while(norm(q_obj-q) > 5e-2):\n",
    "    j += 1\n",
    "    e = q_obj - q\n",
    "    prev_e = e\n",
    "    v = Kp*(q_obj-q)+Kd*(0-v)#+Ki*(0-iq)\n",
    "    \n",
    "    for i in range(len(v)):\n",
    "        v[i] = max(-v_obj,min(v_obj,v[i]))\n",
    "        \n",
    "    alpha = omega/DT\n",
    "    den = 1 + alpha*alpha + alpha/xi\n",
    "    pcg = 2*alpha*alpha + alpha/xi\n",
    "    v = (v + prev_v*pcg - prev_prev_v*alpha*alpha)/den\n",
    "    prev_prev_v = prev_v\n",
    "    prev_v = v\n",
    "   # print(v)\n",
    "    q = pin.integrate(my_robot.model,q, v*DT)\n",
    "    iq = pin.integrate(my_robot.model,iq,q*DT)\n",
    "    #viz.display(q)\n",
    "    #time.sleep(1e-3)\n",
    "    herr.append(e)\n",
    "    vs.append(v)\n",
    "\n",
    "\n",
    "#for i in range(500):\n",
    "#    e = q_obj - q\n",
    "#    v = e/(500-i)/DT\n",
    "#    alpha = omega/DT\n",
    "#    den = 1 + alpha*alpha + alpha/xi\n",
    "#    pcg = 2*alpha*alpha + alpha/xi\n",
    "#    v = (v + prev_v*pcg - prev_prev_v*alpha*alpha)/den\n",
    "#    prev_prev_v = prev_v\n",
    "    #v = v + prev_v*(DT/tau-1)\n",
    "#    prev_v = v\n",
    "#    q = pin.integrate(my_robot.model,q, v*DT)\n",
    "#    viz.display(q)\n",
    "#    time.sleep(1e-3)\n",
    "#    herr.append(e)\n",
    "#    vs.append(v)\n",
    "print(q)\n",
    "print(q_obj)\n",
    "print(norm(q_obj-q))\n",
    "print(j)\n",
    "print(my_robot.placement(q,6))"
   ]
  },
  {
   "cell_type": "code",
   "execution_count": null,
   "metadata": {},
   "outputs": [],
   "source": []
  },
  {
   "cell_type": "code",
   "execution_count": null,
   "metadata": {},
   "outputs": [],
   "source": [
    "plt.subplot(221)\n",
    "plt.plot(herr)\n",
    "plt.xlabel('control cycle (iter)')\n",
    "plt.ylabel('error (m)')\n",
    "#plt.subplot(222)\n",
    "#plt.plot([ e[3:] for e in herr])\n",
    "plt.subplot(222)\n",
    "plt.plot(vs)\n",
    "plt.xlabel('control cycle (iter)')\n",
    "plt.ylabel('error (rad)');\n",
    "print(len(herr[0]))"
   ]
  },
  {
   "cell_type": "code",
   "execution_count": null,
   "metadata": {},
   "outputs": [],
   "source": [
    "res = open(\"values.txt\",\"w\")\n",
    "res.write('q:\\n')\n",
    "for q in herr:\n",
    "    res.write('-'+ ' ' + str(q[0])+' '+str(q[1])+' '+str(q[2])+' '+str(q[3])+' '+str(q[4])+' '+str(q[5])+'\\n')"
   ]
  }
 ],
 "metadata": {
  "kernelspec": {
   "display_name": "Python 3",
   "language": "python",
   "name": "python3"
  },
  "language_info": {
   "codemirror_mode": {
    "name": "ipython",
    "version": 3
   },
   "file_extension": ".py",
   "mimetype": "text/x-python",
   "name": "python",
   "nbconvert_exporter": "python",
   "pygments_lexer": "ipython3",
   "version": "3.6.9"
  }
 },
 "nbformat": 4,
 "nbformat_minor": 4
}
