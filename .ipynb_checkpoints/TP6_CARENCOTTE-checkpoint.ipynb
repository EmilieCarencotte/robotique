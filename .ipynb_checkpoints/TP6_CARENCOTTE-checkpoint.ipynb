{
 "cells": [
  {
   "cell_type": "code",
   "execution_count": null,
   "metadata": {},
   "outputs": [],
   "source": [
    "import math\n",
    "import time\n",
    "import pinocchio as pin\n",
    "import numpy as np\n",
    "from numpy.random import rand\n",
    "from numpy.linalg import inv,pinv,norm,eig,svd\n",
    "import matplotlib.pylab as plt; plt.ion()\n",
    "import quadprog\n",
    "from tp6.robot_hand import RobotHand\n",
    "from tp6.meshcat_viewer_wrapper import MeshcatVisualizer\n",
    "from tp6.traj_ref import TrajRef\n",
    "from tp6.collision_wrapper import CollisionWrapper"
   ]
  },
  {
   "cell_type": "code",
   "execution_count": null,
   "metadata": {},
   "outputs": [],
   "source": [
    "robot=RobotHand()\n",
    "viz = MeshcatVisualizer(robot)\n",
    "viz.display(robot.q0)\n",
    "viz.viewer.jupyter_cell()"
   ]
  },
  {
   "cell_type": "code",
   "execution_count": null,
   "metadata": {},
   "outputs": [],
   "source": [
    "qdes = TrajRef(robot.q0,omega = np.array([0,.1,1,1.5,2.5,-1,-1.5,-2.5,.1,.2,.3,.4,.5,.6]),amplitude=1.5)\n",
    "colwrap = CollisionWrapper(robot)\n",
    "\n",
    "q = robot.q0.copy()\n",
    "vq = np.zeros(robot.model.nv)\n",
    "dt = 1e-3\n",
    "Kp = 50\n",
    "Kv = 2 * np.sqrt(Kp)\n",
    "hq = []\n",
    "hqdes = []\n",
    "previousContacts = []\n",
    "for it in range(10000):\n",
    "    t = it*dt\n",
    "    ### Compute M, b, tauq and self-acceleration (q0)\n",
    "    M = pin.crba(robot.model,robot.data,q)\n",
    "    b = pin.rnea(robot.model,robot.data,q,vq,np.zeros(robot.model.nv))\n",
    "    tauq = -Kp*(q - qdes(t)) - Kv*(vq-qdes.velocity(t))\n",
    "    aq = inv(M) @ (tauq - b)\n",
    "    \n",
    "    #get the collisions\n",
    "    colwrap.computeCollisions(q)\n",
    "    collisions = colwrap.getCollisionList()\n",
    "    if (len(collisions) > 0): # there is a collision !\n",
    "        # get the distances and select the ones with distances <= 1e-3\n",
    "        dist=colwrap.getCollisionDistances(collisions)\n",
    "        myCollisions = []\n",
    "        isNewCollision = False\n",
    "        for i in range(len(collisions)):\n",
    "            if (dist[i] < 1e-3):\n",
    "                myCollisions.append(collisions[i])\n",
    "                isNewCollision = isNewCollision or (not(collisions[i] in previousContacts))\n",
    "                \n",
    "        #compute the Jacobians\n",
    "        J = colwrap.getCollisionJacobian(myCollisions)\n",
    "        dist=colwrap.getCollisionDistances(myCollisions)\n",
    "        \n",
    "        #if there is new collisions, nullify the velocities\n",
    "        if(isNewCollision):\n",
    "            vq = vq - pinv(J)@J@vq\n",
    "            \n",
    "        #compute the acceleration thanks to quadprod\n",
    "        colwrap.computeCollisions(q,vq)\n",
    "        coriollis = colwrap.getCollisionJdotQdot(myCollisions)\n",
    "        \n",
    "        d = -Kp*dist-Kv*J@vq-coriollis\n",
    "        b = np.zeros(robot.model.nv)\n",
    "        # a = ddotq - ddotq0\n",
    "        [a,cost,_,niter,lag,iact] = quadprog.solve_qp(M,b,J.T,d[0])\n",
    "        aq += a\n",
    "        \n",
    "    vq += aq*dt\n",
    "    q = pin.integrate(robot.model,q,vq*dt)\n",
    "    hq.append(q.copy())\n",
    "    hqdes.append(qdes(t).copy())\n",
    "\n",
    "    if it%20==0: \n",
    "        viz.display(q)\n",
    "        time.sleep(dt)\n",
    "                \n",
    "    \n",
    "    \n",
    "    "
   ]
  },
  {
   "cell_type": "code",
   "execution_count": null,
   "metadata": {},
   "outputs": [],
   "source": [
    "plt.subplot(211)\n",
    "plt.plot([q[2] for q in hq])\n",
    "plt.plot([q[2] for q in hqdes])\n",
    "plt.ylabel('Joint #2')\n",
    "plt.subplot(212)\n",
    "plt.plot([q[3] for q in hq])\n",
    "plt.plot([q[3] for q in hqdes]);\n",
    "plt.ylabel('Joint #3')\n",
    "plt.xlabel('Iterations')"
   ]
  }
 ],
 "metadata": {
  "kernelspec": {
   "display_name": "Python 3",
   "language": "python",
   "name": "python3"
  },
  "language_info": {
   "codemirror_mode": {
    "name": "ipython",
    "version": 3
   },
   "file_extension": ".py",
   "mimetype": "text/x-python",
   "name": "python",
   "nbconvert_exporter": "python",
   "pygments_lexer": "ipython3",
   "version": "3.6.9"
  },
  "widgets": {
   "application/vnd.jupyter.widget-state+json": {
    "state": {},
    "version_major": 2,
    "version_minor": 0
   }
  }
 },
 "nbformat": 4,
 "nbformat_minor": 4
}
