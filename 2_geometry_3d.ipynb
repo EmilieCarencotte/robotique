{
 "cells": [
  {
   "cell_type": "markdown",
   "metadata": {},
   "source": [
    "# Direct and inverse geometry of 3d robots\n",
    "This notebook introduces the kinematic tree of Pinocchio for a serial manipulator, explain how to compute the forward and inverse geometry (from configuration to end-effector placements, and inversely). The ideas are examplified with a simplified case-study taken from parallel robotics."
   ]
  },
  {
   "cell_type": "code",
   "execution_count": null,
   "metadata": {},
   "outputs": [],
   "source": [
    "import magic_donotload"
   ]
  },
  {
   "cell_type": "markdown",
   "metadata": {},
   "source": [
    "## Set up\n",
    "We will need Pinocchio, Gepetto-Viewer, SciPy for the solvers"
   ]
  },
  {
   "cell_type": "code",
   "execution_count": 7,
   "metadata": {},
   "outputs": [],
   "source": [
    "import math\n",
    "import time\n",
    "import numpy as np\n",
    "from numpy.linalg import norm,inv,pinv,svd,eig\n",
    "import pinocchio as pin\n",
    "import example_robot_data as robex\n",
    "from scipy.optimize import fmin_bfgs,fmin_slsqp"
   ]
  },
  {
   "cell_type": "markdown",
   "metadata": {},
   "source": [
    "## Kinematic tree in Pinocchio\n",
    "Let's now play with 3D robots. We will load the models from URDF files.\n",
    "\n",
    "*The robot UR5* is a low-cost manipulator robot with good performances. It is a fixed robot with one 6-DOF arms developed by the Danish company Universal Robot. All its 6 joints are revolute joints. Its configuration is in R^6 and is not subject to any constraint. The model of UR5 is described in a URDF file, with the visuals of the bodies of the robot being described as meshed (i.e. polygon soups) using the Collada format \".dae\". Both the URDF and the DAE files are available in the repository in the model directory. \n",
    "\n",
    "This robot model, as well as other models used in the notebooks, are installed from the apt paquet robotpkg-example-robot-data and stored in /opt/openrobots/share/example-robot-data.\n"
   ]
  },
  {
   "cell_type": "code",
   "execution_count": 2,
   "metadata": {},
   "outputs": [],
   "source": [
    "# %load -r 9 tp2/simple_pick_and_place \n",
    "robot = robex.load('ur5')"
   ]
  },
  {
   "cell_type": "raw",
   "metadata": {},
   "source": []
  },
  {
   "cell_type": "code",
   "execution_count": 5,
   "metadata": {},
   "outputs": [],
   "source": [
    "from pinocchio.robot_wrapper import RobotWrapper\n",
    "my_robot = RobotWrapper.BuildFromURDF('schunk.urdf', '.', None)"
   ]
  },
  {
   "cell_type": "markdown",
   "metadata": {},
   "source": [
    "The kinematic tree is represented by two C++ objects called Model (which contains the model constants: lengths, masses, names, etc) and Data (which contains the working memory used by the model algorithms). Both C\\++ objects are contained in a unique Python class. The first class is called RobotWrapper and is generic."
   ]
  },
  {
   "cell_type": "code",
   "execution_count": 3,
   "metadata": {},
   "outputs": [
    {
     "name": "stdout",
     "output_type": "stream",
     "text": [
      "<pinocchio.pinocchio_pywrap.Data object at 0x2229220>\n"
     ]
    }
   ],
   "source": [
    "print(my_robot.data)"
   ]
  },
  {
   "cell_type": "markdown",
   "metadata": {},
   "source": [
    "For the next steps, we are going to work with the RobotWrapper.\n",
    "\n",
    "Import the class RobotWrapper and create an instance of this class in the python terminal. At initialization, RobotWrapper will read the model description in the URDF file given as argument. In the following, we will use the model of the UR5 robot, available in the directory \"models\" of pinocchio (available in the homedir of the VBox). The code of the RobotWrapper class is in /opt/openrobots/lib/python2.7/site-packages/pinocchio/robot_wrapper.py . Do not hesitate to have a look at it and to take inspiration from the implementation of the class functions.\n",
    "\n",
    "Here are some import methods of the class.\n"
   ]
  },
  {
   "cell_type": "markdown",
   "metadata": {},
   "source": [
    "* robot.q0 contains a reference initial configuration of the robot (not a pretty good one for the UR-5)."
   ]
  },
  {
   "cell_type": "markdown",
   "metadata": {},
   "source": [
    "* robot.index('joint name') returns the index of the joint."
   ]
  },
  {
   "cell_type": "code",
   "execution_count": null,
   "metadata": {},
   "outputs": [],
   "source": [
    "robot.index('wrist_3_joint')"
   ]
  },
  {
   "cell_type": "markdown",
   "metadata": {},
   "source": [
    "* robot.model.names is a container (~list) that contains all the joint names"
   ]
  },
  {
   "cell_type": "code",
   "execution_count": null,
   "metadata": {},
   "outputs": [],
   "source": [
    "for i,n in enumerate(robot.model.names): print(i,n)"
   ]
  },
  {
   "cell_type": "markdown",
   "metadata": {},
   "source": [
    "* robot.model.frames contains all the import frames attached to the robot. "
   ]
  },
  {
   "cell_type": "code",
   "execution_count": null,
   "metadata": {},
   "outputs": [],
   "source": [
    "for f in robot.model.frames:\n",
    "    print(f.name,'attached to joint #',f.parent)"
   ]
  },
  {
   "cell_type": "markdown",
   "metadata": {},
   "source": [
    "* robot.placement(idx) and robot.framePlacement(idx) returns the placement (i.e. translation+rotation of the joint / frame in argument."
   ]
  },
  {
   "cell_type": "code",
   "execution_count": null,
   "metadata": {},
   "outputs": [],
   "source": [
    "robot.placement(robot.q0,6) # Placement of the end effector.\n",
    "print(robot.q0)"
   ]
  },
  {
   "cell_type": "markdown",
   "metadata": {},
   "source": [
    "The dimension of the configuration space (i.e. the number of joints) is given in:"
   ]
  },
  {
   "cell_type": "code",
   "execution_count": 2,
   "metadata": {},
   "outputs": [
    {
     "ename": "NameError",
     "evalue": "name 'robot' is not defined",
     "output_type": "error",
     "traceback": [
      "\u001b[0;31m---------------------------------------------------------------------------\u001b[0m",
      "\u001b[0;31mNameError\u001b[0m                                 Traceback (most recent call last)",
      "\u001b[0;32m<ipython-input-2-0af93a61fbf5>\u001b[0m in \u001b[0;36m<module>\u001b[0;34m\u001b[0m\n\u001b[0;32m----> 1\u001b[0;31m \u001b[0mNQ\u001b[0m \u001b[0;34m=\u001b[0m \u001b[0mrobot\u001b[0m\u001b[0;34m.\u001b[0m\u001b[0mmodel\u001b[0m\u001b[0;34m.\u001b[0m\u001b[0mnq\u001b[0m\u001b[0;34m\u001b[0m\u001b[0;34m\u001b[0m\u001b[0m\n\u001b[0m\u001b[1;32m      2\u001b[0m \u001b[0mNV\u001b[0m \u001b[0;34m=\u001b[0m \u001b[0mrobot\u001b[0m\u001b[0;34m.\u001b[0m\u001b[0mmodel\u001b[0m\u001b[0;34m.\u001b[0m\u001b[0mnv\u001b[0m   \u001b[0;31m# for this simple robot, NV==NQ\u001b[0m\u001b[0;34m\u001b[0m\u001b[0;34m\u001b[0m\u001b[0m\n",
      "\u001b[0;31mNameError\u001b[0m: name 'robot' is not defined"
     ]
    }
   ],
   "source": [
    "NQ = robot.model.nq\n",
    "NV = robot.model.nv   # for this simple robot, NV==NQ"
   ]
  },
  {
   "cell_type": "markdown",
   "metadata": {},
   "source": [
    "## Display simple geometries\n",
    "The robot is displayed in the viewer. We are going to use Meshcat to visualize the 3d robot and scene. First open the viewer and load the robot geometries."
   ]
  },
  {
   "cell_type": "code",
   "execution_count": 8,
   "metadata": {},
   "outputs": [
    {
     "name": "stdout",
     "output_type": "stream",
     "text": [
      "You can open the visualizer by visiting the following URL:\n",
      "http://127.0.0.1:7002/static/\n"
     ]
    }
   ],
   "source": [
    "from tp2.meshcat_viewer_wrapper import *\n",
    "my_robot = RobotWrapper.BuildFromURDF('schunk.urdf', '.', None)\n",
    "viz = MeshcatVisualizer(my_robot)\n",
    "q = np.array([0., 1.57, 0, 0, 0, 0])\n",
    "\n",
    "viz.display(q)"
   ]
  },
  {
   "cell_type": "code",
   "execution_count": 9,
   "metadata": {
    "scrolled": true
   },
   "outputs": [
    {
     "data": {
      "text/html": [
       "\n",
       "            <div style=\"height: 400px; width: 100%; overflow-x: auto; overflow-y: hidden; resize: both\">\n",
       "            <iframe src=\"http://127.0.0.1:7002/static/\" style=\"width: 100%; height: 100%; border: none\"></iframe>\n",
       "            </div>\n",
       "            "
      ],
      "text/plain": [
       "<IPython.core.display.HTML object>"
      ]
     },
     "execution_count": 9,
     "metadata": {},
     "output_type": "execute_result"
    }
   ],
   "source": [
    "viz.viewer.jupyter_cell()"
   ]
  },
  {
   "cell_type": "code",
   "execution_count": 7,
   "metadata": {},
   "outputs": [
    {
     "name": "stdout",
     "output_type": "stream",
     "text": [
      "[-0.13740908 -0.54854748  1.78463938  0.          0.80840579  0.        ]\n",
      "9.856237486885341e-07\n",
      "[0. 0.]\n",
      "9.856237486885341e-07\n",
      "  R =\n",
      "-1  0  0\n",
      " 0  1  0\n",
      " 0  0 -1\n",
      "  p = -0.4 0.05 0.99\n",
      "\n",
      "  R =\n",
      "  -0.990575     0.13697 2.02592e-08\n",
      "    0.13697    0.990575 1.46586e-07\n",
      "9.60565e-12 1.47979e-07          -1\n",
      "  p = -0.400001 0.0499992      0.99\n",
      "\n"
     ]
    }
   ],
   "source": [
    "q = qopt.copy()\n",
    "#q[4] = -1.7\n",
    "#q[1] = -1.7\n",
    "#q[2] = math.pi+q[1]-q[4]\n",
    "#q[3] = 0\n",
    "#q[0] = 0\n",
    "#-0.20 => pi/2+q,pi/2\n",
    "print(q)\n",
    "viz.display(q)\n",
    "print(cost(qopt))\n",
    "print(constraint_9(qopt))\n",
    "print(cost(q))\n",
    "print(Mtarget)\n",
    "print(my_robot.placement(q,6))\n",
    "#print(norm(my_robot.placement(q,6).rotation - Mtarget.rotation))\n",
    "#print(my_robot.placement(q,6))"
   ]
  },
  {
   "cell_type": "code",
   "execution_count": 1,
   "metadata": {},
   "outputs": [
    {
     "ename": "NameError",
     "evalue": "name 'my_robot' is not defined",
     "output_type": "error",
     "traceback": [
      "\u001b[0;31m---------------------------------------------------------------------------\u001b[0m",
      "\u001b[0;31mNameError\u001b[0m                                 Traceback (most recent call last)",
      "\u001b[0;32m<ipython-input-1-37d0bc5c63ee>\u001b[0m in \u001b[0;36m<module>\u001b[0;34m\u001b[0m\n\u001b[0;32m----> 1\u001b[0;31m \u001b[0mIDX_TOOL\u001b[0m \u001b[0;34m=\u001b[0m \u001b[0mmy_robot\u001b[0m\u001b[0;34m.\u001b[0m\u001b[0mmodel\u001b[0m\u001b[0;34m.\u001b[0m\u001b[0mgetFrameId\u001b[0m\u001b[0;34m(\u001b[0m\u001b[0;34m'frametool'\u001b[0m\u001b[0;34m)\u001b[0m\u001b[0;34m\u001b[0m\u001b[0;34m\u001b[0m\u001b[0m\n\u001b[0m\u001b[1;32m      2\u001b[0m \u001b[0;34m\u001b[0m\u001b[0m\n\u001b[1;32m      3\u001b[0m \u001b[0mMtarget\u001b[0m \u001b[0;34m=\u001b[0m \u001b[0mpin\u001b[0m\u001b[0;34m.\u001b[0m\u001b[0mXYZQUATToSE3\u001b[0m\u001b[0;34m(\u001b[0m\u001b[0;34m[\u001b[0m\u001b[0;34m-\u001b[0m\u001b[0;36m0.4\u001b[0m\u001b[0;34m,\u001b[0m \u001b[0;36m0.05\u001b[0m\u001b[0;34m,\u001b[0m \u001b[0;36m0.99\u001b[0m\u001b[0;34m,\u001b[0m \u001b[0;36m1\u001b[0m\u001b[0;34m,\u001b[0m \u001b[0;36m0\u001b[0m\u001b[0;34m,\u001b[0m \u001b[0;36m0\u001b[0m\u001b[0;34m,\u001b[0m \u001b[0;36m0\u001b[0m\u001b[0;34m]\u001b[0m\u001b[0;34m)\u001b[0m\u001b[0;34m\u001b[0m\u001b[0;34m\u001b[0m\u001b[0m\n\u001b[1;32m      4\u001b[0m \u001b[0mMtarget\u001b[0m\u001b[0;34m.\u001b[0m\u001b[0mrotation\u001b[0m\u001b[0;34m[\u001b[0m\u001b[0;36m0\u001b[0m\u001b[0;34m]\u001b[0m\u001b[0;34m[\u001b[0m\u001b[0;36m0\u001b[0m\u001b[0;34m]\u001b[0m \u001b[0;34m=\u001b[0m \u001b[0;34m-\u001b[0m\u001b[0;36m1\u001b[0m\u001b[0;34m\u001b[0m\u001b[0;34m\u001b[0m\u001b[0m\n\u001b[1;32m      5\u001b[0m \u001b[0mMtarget\u001b[0m\u001b[0;34m.\u001b[0m\u001b[0mrotation\u001b[0m\u001b[0;34m[\u001b[0m\u001b[0;36m1\u001b[0m\u001b[0;34m]\u001b[0m\u001b[0;34m[\u001b[0m\u001b[0;36m1\u001b[0m\u001b[0;34m]\u001b[0m \u001b[0;34m=\u001b[0m \u001b[0;36m1\u001b[0m\u001b[0;34m\u001b[0m\u001b[0;34m\u001b[0m\u001b[0m\n",
      "\u001b[0;31mNameError\u001b[0m: name 'my_robot' is not defined"
     ]
    }
   ],
   "source": [
    "IDX_TOOL = my_robot.model.getFrameId('frametool')\n",
    "\n",
    "Mtarget = pin.XYZQUATToSE3([-0.4, 0.05, 0.99, 1, 0, 0, 0])\n",
    "Mtarget.rotation[0][0] = -1\n",
    "Mtarget.rotation[1][1] = 1\n",
    "Mtarget.rotation[2][2] = -1\n",
    "\n",
    "# %load -r 36-62 tp3/inverse_kinematics.py\n",
    "q = np.array([0, 0, 0, 0, 0, 0])\n",
    "herr = [] # Log the value of the error between tool and goal.\n",
    "# Loop on an inverse kinematics for 200 iterations.\n",
    "for i in range(1):  # Integrate over 2 second of robot life\n",
    "\n",
    "    # Run the algorithms that outputs values in robot.data\n",
    "    pin.framesForwardKinematics(my_robot.model,my_robot.data,q)\n",
    "    pin.computeJointJacobians(my_robot.model,my_robot.data,q)\n",
    "\n",
    "    # Placement from world frame o to frame f oMtool\n",
    "    print(len(my_robot.data.oMf))\n",
    "    print(IDX_TOOL)\n",
    "    #oMtool = my_robot.data.oMf[IDX_TOOL-1]\n",
    "\n",
    "    # 3D jacobian in world frame\n",
    "    #o_Jtool3 = pin.computeFrameJacobian(my_robot.model,my_robot.data,q,IDX_TOOL,pin.LOCAL_WORLD_ALIGNED)[:3,:]\n",
    "\n",
    "    # vector from tool to goal, in world frame\n",
    "    #o_TG = oMtool.translation-oMgoal.translation\n",
    "    \n",
    "    # Control law by least square\n",
    "    #vq = -pinv(o_Jtool3)@o_TG\n",
    "\n",
    "    #q = pin.integrate(my_robot.model,q, vq * DT)\n",
    "    #viz.display(q)\n",
    "    #time.sleep(1e-3)\n",
    "\n",
    "    #herr.append(o_TG) "
   ]
  },
  {
   "cell_type": "markdown",
   "metadata": {},
   "source": [
    "A configuration *q* can be displayed in the viewer:"
   ]
  },
  {
   "cell_type": "code",
   "execution_count": 10,
   "metadata": {},
   "outputs": [],
   "source": [
    "q = np.array([0, 0, 0, 0.0, -0.0, 0.])\n",
    "\n",
    "viz.display(q)\n",
    "\n",
    "tableID = \"world/table\"\n",
    "viz.addBox(tableID, [1, 0.5, 0.1], colors.green)\n",
    "q_table = [-0.4, 0.15, 0.7, 1, 0, 0, 0]\n",
    "viz.applyConfiguration (tableID, q_table)\n",
    "\n",
    "feets = ['world/feet%s'%i for i in range(4)]\n",
    "qs = [[0.05, -0.85], [0.35, -0.05]]\n",
    "qs_f = [[qs[0][i%2], qs[1][i//2], 0.325, 1, 0, 0, 0] for i in range(4)]\n",
    "for i in range(4):\n",
    "    viz.addBox(feets[i], [0.1, 0.1, 0.65], colors.blue)\n",
    "    viz.applyConfiguration (feets[i], qs_f[i])\n",
    "\n",
    "cylinders = ['world/cylinder%s'%i for i in range(9)]\n",
    "qs = [[-0.4, -0.6, -0.5], [0.05, 0.15, 0.25]]\n",
    "qs_c = [[qs[0][i%3], qs[1][i//3], 0.8, 0.707, 0, 0, 0.707] for i in range(9)]\n",
    "for i in range(9):\n",
    "    viz.addCylinder(cylinders[i], 0.065, 0.045, colors.red)\n",
    "    viz.applyConfiguration (cylinders[i], qs_c[i])\n",
    "\n",
    "charriot = \"world/charriot\"\n",
    "viz.addBox(charriot, [0.5, 0.25, 0.3], colors.black)\n",
    "q = [0, -0.5, 0.15, 1, 0, 0, 0]\n",
    "viz.applyConfiguration (charriot, q)\n",
    "\n",
    "cylinders_out = ['world/cylinder_out%s'%i for i in range(9)]\n",
    "qs = [[-0.2, -0.1, 0, 0.1, 0.2, 0.3], [-0.45, -0.55]]\n",
    "qs_o = [[qs[0][i%5], qs[1][i//5], 0.375, 0.707, 0, 0, 0.707] for i in range(9)]\n",
    "for i in range(9):\n",
    "    viz.addCylinder(cylinders_out[i], 0.15, 0.045, colors.white)\n",
    "    viz.applyConfiguration (cylinders_out[i], qs_o[i])\n"
   ]
  },
  {
   "cell_type": "code",
   "execution_count": null,
   "metadata": {},
   "outputs": [],
   "source": [
    "q = np.array([0, 1.75, 0.4, 0, 0, 0])\n",
    "viz.display(q)\n",
    "Mref = pin.XYZQUATToSE3([0, 0, 1.69, 0.707, 0, 0, -0.707])\n",
    "print(q0)\n",
    "rMcyl_ref = my_robot.placement(q0,6).inverse()*Mref\n",
    "o_box = my_robot.placement(q, 6) * rMcyl_ref\n",
    "viz.applyConfiguration(cylinder_test, o_box)\n"
   ]
  },
  {
   "cell_type": "code",
   "execution_count": 7,
   "metadata": {},
   "outputs": [
    {
     "name": "stdout",
     "output_type": "stream",
     "text": [
      "  R =\n",
      "           1  7.96077e-06 -1.94944e-11\n",
      "-7.96077e-06            1  9.14043e-16\n",
      " 1.94944e-11   1.0346e-16            1\n",
      "  p = -2.79376e-08  -0.00526171        1.557\n",
      "\n"
     ]
    }
   ],
   "source": [
    "q = np.array([0, 0, 0, 0.0, -0.0, 0.])\n",
    "viz.display(q)\n",
    "print(my_robot.placement(q,6))\n",
    "cylinder_test = 'world/test'\n",
    "q = [0, 0, 1.69, 0.707, 0, 0, -0.707]\n",
    "viz.addCylinder(cylinder_test, 0.1, 0.045, colors.green)\n",
    "viz.applyConfiguration(cylinder_test, qs_c[2])"
   ]
  },
  {
   "cell_type": "code",
   "execution_count": 6,
   "metadata": {},
   "outputs": [
    {
     "name": "stdout",
     "output_type": "stream",
     "text": [
      "begin\n",
      "  NIT    FC           OBJFUN            GNORM\n",
      "    1     8     6.960911E-01     4.152150E-01\n",
      "    2    16     2.431307E-01     3.650117E-01\n",
      "    3    24     1.791870E-01     2.879287E-01\n",
      "    4    33     1.131647E-01     3.446176E-01\n",
      "    5    41     8.220350E-02     3.253894E-01\n",
      "    6    50     3.798079E-02     3.532585E-01\n",
      "    7    58     2.950216E-02     3.074451E-01\n",
      "    8    67     1.623700E-02     3.474329E-01\n",
      "    9    76     1.143822E-02     2.996014E-01\n",
      "   10    85     5.122701E-03     3.863500E-01\n",
      "   11    95     3.022797E-03     4.096974E-01\n",
      "   12   104     1.898166E-03     2.448459E-01\n",
      "   13   113     1.470561E-03     4.207197E-01\n",
      "   14   122     7.648917E-04     3.732845E-01\n",
      "   15   131     4.615870E-04     3.226589E-01\n",
      "   16   140     2.423536E-04     4.056499E-01\n",
      "   17   149     2.050799E-04     4.014516E-01\n",
      "   18   158     1.292947E-04     3.387074E-01\n",
      "   19   167     7.617984E-05     3.656130E-01\n",
      "   20   176     3.300250E-05     4.061624E-01\n",
      "   21   186     1.914050E-05     3.921473E-01\n",
      "   22   195     1.589300E-05     2.614533E-01\n",
      "   23   204     1.214838E-05     4.302546E-01\n",
      "   24   213     4.786185E-06     3.931899E-01\n",
      "   25   222     3.390151E-06     3.633242E-01\n",
      "   26   231     1.444647E-06     4.336856E-01\n",
      "Optimization terminated successfully.    (Exit mode 0)\n",
      "            Current function value: 9.856237486885341e-07\n",
      "            Iterations: 26\n",
      "            Function evaluations: 234\n",
      "            Gradient evaluations: 26\n",
      "[-0.13740908 -0.54854748  1.78463938  0.          0.80840579  0.        ]\n"
     ]
    }
   ],
   "source": [
    "def cost(q):\n",
    "    '''Compute score from a configuration''' \n",
    "    M = my_robot.placement(q,6)\n",
    "    #rMcyl = M.inverse() * Mtarget\n",
    "    #return norm(pin.log(rMcyl.inverse() * rMcyl_ref).vector)\n",
    "    #return norm(rMcyl.inverse()*rMcyl_ref)\n",
    "    cost = 0\n",
    "        \n",
    "    #cost += 10*norm(M.translation[2] - Mtarget.translation[2])**2\n",
    "    cost += norm((M.translation-Mtarget.translation))\n",
    "    return cost\n",
    "\n",
    "def constraint_9(ps):\n",
    "    res = np.zeros(2)\n",
    "    res[0] = ps[2] - (math.pi+ps[1]-ps[4])\n",
    "    res[1] = ps[3]\n",
    "    return res\n",
    "\n",
    "def callback(q):\n",
    "    #viz.applyConfiguration('world/box', Mtarget)\n",
    "    viz.display(q)\n",
    "    time.sleep(1e-1)\n",
    "    \n",
    "print(\"begin\")\n",
    "\n",
    "#Mtarget = pin.SE3(pin.utils.rotate('x',3.14/4), np.array([0.5, 0.1, 0.2]))  # x,y,z\n",
    "q0 = np.array([0, 0, 0, 0, 0, 0])\n",
    "Mtarget = pin.XYZQUATToSE3([-0.4, 0.05, 0.99, 1, 0, 0, 0])\n",
    "Mtarget.rotation[0][0] = -1\n",
    "Mtarget.rotation[1][1] = 1\n",
    "Mtarget.rotation[2][2] = -1\n",
    "#Mtarget = pin.XYZQUATToSE3([0, -0.45, 0.53, 1, 0, 0, 0])\n",
    "#Mtarget = pin.XYZQUATToSE3(qs_c[0])\n",
    "#Mref = pin.XYZQUATToSE3([0, -0.00526171, 1.69, 0.707, 0, 0, -0.707])\n",
    "#rMcyl_ref = my_robot.placement(q0,6).inverse()*Mref\n",
    "#qopt = fmin_bfgs(cost, q0, callback=callback)\n",
    "qopt = fmin_slsqp(cost, q0, callback=callback, f_eqcons=constraint_9, iprint=2, full_output=1)[0]\n",
    "print(qopt)"
   ]
  },
  {
   "cell_type": "code",
   "execution_count": 11,
   "metadata": {},
   "outputs": [
    {
     "ename": "AttributeError",
     "evalue": "'SE3' object has no attribute 'target'",
     "output_type": "error",
     "traceback": [
      "\u001b[0;31m---------------------------------------------------------------------------\u001b[0m",
      "\u001b[0;31mAttributeError\u001b[0m                            Traceback (most recent call last)",
      "\u001b[0;32m<ipython-input-11-34e4c408d183>\u001b[0m in \u001b[0;36m<module>\u001b[0;34m\u001b[0m\n\u001b[1;32m      1\u001b[0m \u001b[0mq\u001b[0m \u001b[0;34m=\u001b[0m \u001b[0mnp\u001b[0m\u001b[0;34m.\u001b[0m\u001b[0marray\u001b[0m\u001b[0;34m(\u001b[0m\u001b[0;34m[\u001b[0m\u001b[0;36m0\u001b[0m\u001b[0;34m,\u001b[0m \u001b[0;36m0\u001b[0m\u001b[0;34m,\u001b[0m \u001b[0;36m0\u001b[0m\u001b[0;34m,\u001b[0m \u001b[0;36m0.0\u001b[0m\u001b[0;34m,\u001b[0m \u001b[0;34m-\u001b[0m\u001b[0;36m0.0\u001b[0m\u001b[0;34m,\u001b[0m \u001b[0;36m0.\u001b[0m\u001b[0;34m]\u001b[0m\u001b[0;34m)\u001b[0m\u001b[0;34m\u001b[0m\u001b[0;34m\u001b[0m\u001b[0m\n\u001b[0;32m----> 2\u001b[0;31m \u001b[0mprint\u001b[0m\u001b[0;34m(\u001b[0m\u001b[0mcost\u001b[0m\u001b[0;34m(\u001b[0m\u001b[0mq\u001b[0m\u001b[0;34m)\u001b[0m\u001b[0;34m)\u001b[0m\u001b[0;34m\u001b[0m\u001b[0;34m\u001b[0m\u001b[0m\n\u001b[0m\u001b[1;32m      3\u001b[0m \u001b[0msign\u001b[0m \u001b[0;34m=\u001b[0m \u001b[0;32mlambda\u001b[0m \u001b[0mx\u001b[0m\u001b[0;34m:\u001b[0m \u001b[0;34m(\u001b[0m\u001b[0mabs\u001b[0m\u001b[0;34m(\u001b[0m\u001b[0mx\u001b[0m\u001b[0;34m)\u001b[0m\u001b[0;34m-\u001b[0m\u001b[0mmath\u001b[0m\u001b[0;34m.\u001b[0m\u001b[0mpi\u001b[0m \u001b[0;34m>\u001b[0m \u001b[0;36m0\u001b[0m\u001b[0;34m)\u001b[0m \u001b[0;34m-\u001b[0m\u001b[0;36m0\u001b[0m\u001b[0;34m\u001b[0m\u001b[0;34m\u001b[0m\u001b[0m\n\u001b[1;32m      4\u001b[0m \u001b[0msign\u001b[0m\u001b[0;34m(\u001b[0m\u001b[0;36m1.57\u001b[0m\u001b[0;34m)\u001b[0m\u001b[0;34m\u001b[0m\u001b[0;34m\u001b[0m\u001b[0m\n",
      "\u001b[0;32m<ipython-input-8-ddeb1f2bc0b7>\u001b[0m in \u001b[0;36mcost\u001b[0;34m(q)\u001b[0m\n\u001b[1;32m      8\u001b[0m \u001b[0;34m\u001b[0m\u001b[0m\n\u001b[1;32m      9\u001b[0m     \u001b[0;31m#cost += 10*norm(M.translation[2] - Mtarget.translation[2])**2\u001b[0m\u001b[0;34m\u001b[0m\u001b[0;34m\u001b[0m\u001b[0;34m\u001b[0m\u001b[0m\n\u001b[0;32m---> 10\u001b[0;31m     \u001b[0mcost\u001b[0m \u001b[0;34m+=\u001b[0m \u001b[0mnorm\u001b[0m\u001b[0;34m(\u001b[0m\u001b[0mpin\u001b[0m\u001b[0;34m.\u001b[0m\u001b[0mlog\u001b[0m\u001b[0;34m(\u001b[0m\u001b[0mM\u001b[0m\u001b[0;34m.\u001b[0m\u001b[0mrotation\u001b[0m\u001b[0;34m-\u001b[0m\u001b[0mMtarget\u001b[0m\u001b[0;34m.\u001b[0m\u001b[0mtarget\u001b[0m\u001b[0;34m)\u001b[0m\u001b[0;34m)\u001b[0m\u001b[0;34m\u001b[0m\u001b[0;34m\u001b[0m\u001b[0m\n\u001b[0m\u001b[1;32m     11\u001b[0m     \u001b[0;32mreturn\u001b[0m \u001b[0mcost\u001b[0m\u001b[0;34m\u001b[0m\u001b[0;34m\u001b[0m\u001b[0m\n\u001b[1;32m     12\u001b[0m \u001b[0;34m\u001b[0m\u001b[0m\n",
      "\u001b[0;31mAttributeError\u001b[0m: 'SE3' object has no attribute 'target'"
     ]
    }
   ],
   "source": [
    "q = np.array([0, 0, 0, 0.0, -0.0, 0.])\n",
    "print(cost(q))\n",
    "sign = lambda x: (abs(x)-math.pi > 0) -0\n",
    "sign(1.57)\n"
   ]
  },
  {
   "cell_type": "code",
   "execution_count": 50,
   "metadata": {},
   "outputs": [
    {
     "name": "stdout",
     "output_type": "stream",
     "text": [
      "  R =\n",
      "        1         0         0\n",
      "        0  0.000302  0.999698\n",
      "        0 -0.999698  0.000302\n",
      "  p =           0 -0.00526171        1.69\n",
      "\n",
      "  R =\n",
      "           1 -2.42364e-09 -7.95837e-06\n",
      " 7.96077e-06     0.000302     0.999698\n",
      "-1.94944e-11    -0.999698     0.000302\n",
      "  p = 2.79402e-08 4.37836e-09       0.133\n",
      "\n",
      "  R =\n",
      "           1 -2.44714e-08 -1.21869e-08\n",
      " 2.44714e-08            1  7.07933e-09\n",
      " 1.21869e-08 -7.07933e-09            1\n",
      "  p =  7.58108e-08  2.09914e-08 -1.16511e-08\n",
      "\n",
      "  R =\n",
      "           1 -1.45994e-08  -7.9339e-06\n",
      "  7.9363e-06  0.000302007     0.999698\n",
      "-1.22063e-08    -0.999698  0.000302007\n",
      "  p = -4.62498e-08 -1.75546e-08        0.133\n",
      "\n",
      "[ 2.54030823e-07 -1.04406360e-01  1.04469413e-01 -1.57002010e+00\n",
      " -6.22048565e-06  6.24341974e-06]\n",
      "[-0.08919517 -0.8759631   1.39313552 -3.14159429 -0.87249404 -0.08919243]\n",
      "0.0276624741227777\n",
      "  R =\n",
      "        1         0         0\n",
      "        0  0.000302  0.999698\n",
      "        0 -0.999698  0.000302\n",
      "  p =           0 -0.00526171        1.69\n",
      "\n"
     ]
    }
   ],
   "source": [
    "print(Mref)\n",
    "test = my_robot.placement(np.array([0,0,0,0,0,0]),6).inverse()*Mref\n",
    "#print(my_robot.placement(np.array([0,0,0,0,0,0]),6))\n",
    "print(test)\n",
    "test1 = my_robot.placement(qopt,6).inverse()*Mtarget\n",
    "print(test1)\n",
    "print(test1.inverse()*test)\n",
    "print(pin.log(test1.inverse()*test).vector)\n",
    "#print(norm(test1.inverse()*test))\n",
    "#print(rMcyl_ref)\n",
    "#print(norm(pin.log(test.inverse()*rMcyl_ref).vector))\n",
    "#print(cost(qopt))\n",
    "print(qopt)\n",
    "rMref = my_robot.placement(qopt,6).inverse()*Mref\n",
    "print(norm(pin.log(rMref.inverse()*test).vector))\n",
    "print(Mref)"
   ]
  },
  {
   "cell_type": "markdown",
   "metadata": {},
   "source": [
    "Other geometries (cubes, spheres, etc) can be displayed as well."
   ]
  },
  {
   "cell_type": "code",
   "execution_count": null,
   "metadata": {},
   "outputs": [],
   "source": [
    "# %load -r 15-23 tp2/simple_pick_and_place.py\n",
    "\n",
    "# Add a red box in the viewer\n",
    "ballID = \"world/ball\"\n",
    "viz.addSphere( ballID, 0.5, colors.red )\n",
    "\n",
    "# Place the ball at the position ( 0.5, 0.1, 0.2 )\n",
    "# The viewer expect position and rotation, apppend the identity quaternion\n",
    "q_ball = [0, 0, 0, 1, 0, 0, 0]\n",
    "viz.applyConfiguration( ballID, q_ball )"
   ]
  },
  {
   "cell_type": "markdown",
   "metadata": {},
   "source": [
    "## Forward (direct) geometry\n",
    "\n",
    "First, let's do some forward geometry, i.e. use Pinocchio to compute where is the end effector knowning the robot configuration.\n",
    "\n",
    "### Simple pick ...\n",
    "\n",
    "Say we have a target at position [.5,.1,.2] and we would like the robot to grasp it.\n",
    "First decide (by any way you want, e.g. trial and error) the configuration of the robot so that the end effector touches the ball.\n"
   ]
  },
  {
   "cell_type": "code",
   "execution_count": null,
   "metadata": {},
   "outputs": [],
   "source": [
    "# %load -r 29-36 tp2/simple_pick_and_place.py\n",
    "\n",
    "q0 = np.zeros(NQ)  ### set the correct values here\n",
    "q0[0] = -0.1\n",
    "q0[1] = -1.45\n",
    "q0[2] = 1.8\n",
    "q0[3] = .4\n",
    "q0[4] = 1.5\n",
    "q0[5] = 1\n",
    "viz.display(q0)\n",
    "print(q0)\n",
    "\n",
    "# Take care to explicitely mention copy when you want a copy of array.\n",
    "q = q0.copy()"
   ]
  },
  {
   "cell_type": "markdown",
   "metadata": {},
   "source": [
    "### ... and simple place"
   ]
  },
  {
   "cell_type": "markdown",
   "metadata": {},
   "source": [
    "At the reference position you built, the end effector placement can be obtained by calling "
   ]
  },
  {
   "cell_type": "code",
   "execution_count": null,
   "metadata": {},
   "outputs": [],
   "source": [
    "robot.placement(q,6).translation\n",
    "\n",
    "q0 = np.zeros(NQ)\n",
    "while (norm(robot.placement(q0,6).translation - [.5,.1,.2]) >= 0.2):\n",
    "    q0 = (np.random.rand(NQ)-0.5)*2*1.7\n",
    "    viz.display(q0)"
   ]
  },
  {
   "cell_type": "markdown",
   "metadata": {},
   "source": [
    "Only the translation part of the placement has been selected. The rotation is free.\n",
    "\n",
    "Now, choose any trajectory you want in the configuration space (it can be sinus-cosinus waves, polynomials, splines, straight lines). Make a for loop to display the robot at sampling positions along this trajectory. The function sleep can be used to slow down the loop."
   ]
  },
  {
   "cell_type": "code",
   "execution_count": null,
   "metadata": {},
   "outputs": [],
   "source": [
    "time.sleep(.1) # in second"
   ]
  },
  {
   "cell_type": "markdown",
   "metadata": {},
   "source": [
    "At each instant of your loop, recompute the position of the ball and display it so that it always \"sticks\" to the robot end effector."
   ]
  },
  {
   "cell_type": "code",
   "execution_count": null,
   "metadata": {},
   "outputs": [],
   "source": [
    "## TODO ####################################################\n",
    "#### Replace here with your initial configuration\n",
    "NQ = 6\n",
    "q0 = np.zeros(NQ)  ### set the correct values here\n",
    "q0[0] = -0.1\n",
    "q0[1] = -1.45\n",
    "q0[2] = 1.8\n",
    "q0[3] = .4\n",
    "q0[4] = 1.5\n",
    "q0[5] = 1\n",
    "q = q0# = np.random.rand(NQ)*6-3  \n",
    "### TODO ####################################################\n",
    "\n",
    "# Compute initial translation between effector and box.\n",
    "# Translation of end-eff wrt world at initial configuration\n",
    "o_eff = robot.placement(q, 6).translation\n",
    "# Translation of box wrt world\n",
    "o_ball = q_ball[:3]\n",
    "eff_ball = o_ball - o_eff\n",
    "o_ball = robot.placement(q,6)*eff_ball\n",
    "#viz.applyConfiguration(ballID, o_ball.tolist()+[1,0,0,0])\n",
    "#viz.display(q)\n",
    "time.sleep(0.1)\n",
    "\n",
    "for i in range(0):\n",
    "    ### Replace here by your choice of computing q(t)\n",
    "    q += [0,0,-math.pi/200,0,0,0]\n",
    "    print(q)\n",
    "    ### TODO ####################################################\n",
    "    ### Replace here by your computation of the new box position \n",
    "    o_ball = robot.placement(q,6)*eff_ball\n",
    "    \n",
    "    ### /TODO ###################################################\n",
    "    \n",
    "    # Display the new robot and box configurations.\n",
    "    # The viewer expect a placement (position-rotation).\n",
    "#    viz.applyConfiguration(ballID, o_ball.tolist()+[1,0,0,0])\n",
    "#    viz.display(q)\n",
    "    time.sleep(0.1)\n"
   ]
  },
  {
   "cell_type": "markdown",
   "metadata": {},
   "source": [
    "The solution is below, should you need it."
   ]
  },
  {
   "cell_type": "code",
   "execution_count": null,
   "metadata": {},
   "outputs": [],
   "source": [
    "# %load -r 46-69 tp2/simple_pick_and_place.py\n",
    "q0 = np.zeros(NQ)  ### set the correct values here\n",
    "q0[0] = -0.1\n",
    "q0[1] = -1.45\n",
    "q0[2] = 1.8\n",
    "q0[3] = .4\n",
    "q0[4] = 1.5\n",
    "q0[5] = 1\n",
    "q = q0.copy()\n",
    "q_ball = [0.5, 0.1, 0.2, 1, 0, 0, 0]\n",
    "viz.applyConfiguration( ballID, q_ball )\n",
    "viz.display(q0)\n",
    "#time.sleep(10)\n",
    "\n",
    "# Random velocity of the robot driving the movement\n",
    "vq = np.array([ 2.,0,0,4.,0,0])\n",
    "\n",
    "idx = robot.index('wrist_3_joint')\n",
    "print(idx)\n",
    "o_eff = robot.placement(q, idx).translation  # Position of end-eff wrt world at current configuration\n",
    "\n",
    "o_ball = q_ball[:3]                          # Position of ball wrt world\n",
    "eff_ball = o_ball - o_eff                    # Position of ball wrt eff\n",
    "\n",
    "for i in range(50):\n",
    "    # Chose new configuration of the robot\n",
    "    q += vq / 40\n",
    "    q[2] = 1.71 + math.sin(i * 0.05) / 2\n",
    "\n",
    "    # Gets the new position of the ball\n",
    "    o_ball = robot.placement(q, idx) * eff_ball\n",
    "\n",
    "    # Display new configuration for robot and ball\n",
    "    viz.applyConfiguration(ballID, o_ball.tolist()+[0,0,0,1])\n",
    "    viz.display(q)\n",
    "    time.sleep(0.1)\n"
   ]
  },
  {
   "cell_type": "markdown",
   "metadata": {},
   "source": [
    "### Pick and place in 3D\n",
    "\n",
    "Say now that the object is a rectangle and not a sphere. Pick the object at a reference position with the rotation that is imposed, so that the end effector is aligned with one of the faces of the rectangle.\n"
   ]
  },
  {
   "cell_type": "code",
   "execution_count": null,
   "metadata": {},
   "outputs": [],
   "source": [
    "# %load -r 77-85 tp2/simple_pick_and_place.py\n",
    "# Add a red box in the viewer\n",
    "boxID = \"world/box\"\n",
    "viz.delete( ballID )\n",
    "viz.addBox( boxID, [0.1, 0.2, 0.1], colors.magenta )\n",
    "\n",
    "# Place the box at the position ( 0.5, 0.1, 0.2 )\n",
    "q_box = [0.5, 0.1, 0.2, 1, 0, 0, 0]\n",
    "viz.applyConfiguration( 'world/box', q_box )\n"
   ]
  },
  {
   "cell_type": "markdown",
   "metadata": {},
   "source": [
    "A configuration with the arm nicely attached to the box is:"
   ]
  },
  {
   "cell_type": "code",
   "execution_count": null,
   "metadata": {},
   "outputs": [],
   "source": [
    "# %load -r 30-37 tp2/simple_pick_and_place.py\n",
    "q0 = np.zeros(NQ)\n",
    "q0[0] = -0.375\n",
    "q0[1] = -1.2\n",
    "q0[2] = 1.71\n",
    "q0[3] = -q0[1] - q0[2]\n",
    "q0[4] =  q0[0]\n",
    "\n",
    "q_box = [0.5, 0.1, 0.2, 1, 0, 0, 0]\n",
    "viz.applyConfiguration( 'world/box', q_box )\n",
    "viz.viz.display(q0)\n",
    "q = q0.copy()"
   ]
  },
  {
   "cell_type": "markdown",
   "metadata": {},
   "source": [
    "Redo the same question as before, but now also choosing the orientation of the box. For that, at each robot configuration in your for-loop, compute the box placement wrt the world (let's denote it by oMbox) and display both the box and the robot configuration in the view."
   ]
  },
  {
   "cell_type": "code",
   "execution_count": null,
   "metadata": {},
   "outputs": [],
   "source": [
    "%do_not_load -r 91- tp2/simple_pick_and_place.py\n",
    "\n",
    "q = q0.copy()\n",
    "# Random velocity of the robot driving the movement\n",
    "vq = np.array([ 2.,0,0,4.,0,0])\n",
    "\n",
    "idx = robot.index('wrist_3_joint')\n",
    "oMeff = robot.placement(q, idx)  # Position of end-eff wrt world at current configuration\n",
    "\n",
    "oMbox = pin.XYZQUATToSE3(q_box)              # Position of box wrt world\n",
    "effMbox = oMeff.inverse()*oMbox              # Position of box wrt eff\n",
    "\n",
    "for i in range(50):\n",
    "    # Chose new configuration of the robot\n",
    "    q += vq / 40\n",
    "    q[2] = 1.71 + math.sin(i * 0.05) / 2\n",
    "\n",
    "    # Gets the new position of the ball\n",
    "    o_box = robot.placement(q, idx) * effMbox\n",
    "\n",
    "    # Display new configuration for robot and ball\n",
    "    viz.applyConfiguration(boxID, o_box)\n",
    "    viz.display(q)\n",
    "    time.sleep(0.1)\n"
   ]
  },
  {
   "cell_type": "markdown",
   "metadata": {},
   "source": [
    "## Inverse geometry\n",
    "\n",
    "We only yet computed the forward geometry, i.e. from configurations to end-effector placement. Let's to the inverse map not.\n",
    "\n",
    "### Inverse geometry in 3D\n",
    "\n",
    "Let's now first control the position (i.e. translation only) of the end effector of a manipulator robot to a given position. For this first part, we will use the fixed serial-chain robot model.\n",
    "\n",
    "Recall first that the position (3D) of the joint with index \"i=6\" at position \"q\" can be access by the following two lines of code."
   ]
  },
  {
   "cell_type": "code",
   "execution_count": null,
   "metadata": {},
   "outputs": [],
   "source": [
    "robot.placement(q,6).translation\n",
    "\n",
    "def cost(ps):\n",
    "    return norm(robot.placement(ps,6).translation- q_box[:3])\n",
    "\n",
    "def callback(q):\n",
    "    viz.display(q)\n",
    "    time.sleep(.5)\n",
    "    \n",
    "x0 = np.zeros(NQ)\n",
    "xopt_bfgs = fmin_bfgs(cost, x0, callback=callback)\n",
    "print('\\n *** Xopt in BFGS = %s \\n\\n\\n\\n' % xopt_bfgs)\n",
    "print(cost(xopt_bfgs))\n",
    "viz.display(xopt_bfgs)\n",
    "print(cost(q0))"
   ]
  },
  {
   "cell_type": "code",
   "execution_count": null,
   "metadata": {},
   "outputs": [],
   "source": [
    "print(robot.placement(q,6).translation)\n",
    "print(q_box[:3])"
   ]
  },
  {
   "cell_type": "markdown",
   "metadata": {},
   "source": [
    "Using the scipy solver [used in the previous notebook](1_geometry_2d.ipynb#section_optim), compute a configuration q where the end effector reaches p. For that, implement a cost function that takes a configuration as argument and returns the squared distance between the end effetor and the target."
   ]
  },
  {
   "cell_type": "code",
   "execution_count": null,
   "metadata": {},
   "outputs": [],
   "source": [
    "# %load -r 35- tp2/invgeom3d.py\n",
    "viz.addSphere(\"world/ball\", .05, 'green')\n",
    "viz.addBox(\"world/blue\", [.08]*3, [.2, .2, 1., .5])\n",
    "\n",
    "#\n",
    "# OPTIM 3D #########################################################\n",
    "#\n",
    "\n",
    "def cost(q):\n",
    "    '''Compute score from a configuration'''\n",
    "    p = robot.placement(q, 6).translation\n",
    "    return norm(p - target)**2\n",
    "\n",
    "def callback(q):\n",
    "    viz.applyConfiguration('world/ball', target.tolist()+[0,1,0,0])\n",
    "    viz.applyConfiguration('world/blue', robot.placement(q, 6))\n",
    "    viz.display(q)\n",
    "    time.sleep(1e-1)\n",
    "\n",
    "target = np.array([0.5, 0.1, 0.2])  # x,y,z\n",
    "qopt = fmin_bfgs(cost, robot.q0, callback=callback)\n"
   ]
  },
  {
   "cell_type": "markdown",
   "metadata": {},
   "source": [
    "### Inverse geometry in 6D\n",
    "6D means: translation and rotation. Change the previous cost function for a cost measuring the difference between the current placement root.placement(q,6) and a reference placement oMdes. \n",
    "For that, you can use the SE(3) log function to score the distance between two placements. The log returns a 6D velocity, represented by a class Motion, that must be transformed to a vector of R^6 from which you can take the norm.\n"
   ]
  },
  {
   "cell_type": "code",
   "execution_count": null,
   "metadata": {},
   "outputs": [],
   "source": [
    "pin.log(pin.SE3.Identity()).vector"
   ]
  },
  {
   "cell_type": "code",
   "execution_count": null,
   "metadata": {},
   "outputs": [],
   "source": [
    "# %load -r 35- tp2/invgeom6d.py\n",
    "viz.addBox(\"world/box\",  [.05,.1,.2], [1., .2, .2, .5])\n",
    "viz.addBox(\"world/blue\", [.05,.1,.2], [.2, .2, 1., .5])\n",
    "\n",
    "#\n",
    "# OPTIM 6D #########################################################\n",
    "#\n",
    "\n",
    "def cost(q):\n",
    "    '''Compute score from a configuration'''\n",
    "    M = robot.placement(q, 6)\n",
    "    return norm(pin.log(M.inverse() * Mtarget).vector)\n",
    "\n",
    "def callback(q):\n",
    "    viz.applyConfiguration('world/box',  Mtarget)\n",
    "    viz.applyConfiguration('world/blue', robot.placement(q, 6))\n",
    "    viz.display(q)\n",
    "    time.sleep(1e-1)\n",
    "\n",
    "Mtarget = pin.SE3(pin.utils.rotate('x',3.14/4), np.array([0.5, 0.1, 0.2]))  # x,y,z\n",
    "qopt = fmin_bfgs(cost, robot.q0, callback=callback)\n",
    "\n",
    "print('The robot finally reached effector placement at\\n',robot.placement(qopt,6))\n"
   ]
  },
  {
   "cell_type": "markdown",
   "metadata": {},
   "source": [
    "### Optimizing in the quaternion space\n",
    "\n",
    "Let's now work with a floating robot: the quadruped ANYmal. This robot has 12 joints, but Q-space of size 19 (robot.model.nq) and Q-tangent space of size 18 (robot.model.nv). This is because with need 7D vector to encode the robot placement in space, which indeed to only 6 DOF.\n"
   ]
  },
  {
   "cell_type": "code",
   "execution_count": null,
   "metadata": {},
   "outputs": [],
   "source": [
    "robot = robex.load('solo12')\n",
    "viz = MeshcatVisualizer(robot)\n",
    "viz.viewer.jupyter_cell()"
   ]
  },
  {
   "cell_type": "code",
   "execution_count": null,
   "metadata": {},
   "outputs": [],
   "source": [
    "from math import *\n",
    "q1 = robot.q0.copy()\n",
    "#q1[0:3] = qopt[0:3]\n",
    "#q1[4] = qopt[4]\n",
    "q1[4] = 0\n",
    "#q1[7:10] = qopt[7:10]\n",
    "#q1[10:13] = qopt[10:13]\n",
    "#q1[13:16] = qopt[13:16]\n",
    "#q1[16:] = qopt[16:]\n",
    "viz.display(q1)\n",
    "robot.feetIndexes = [ robot.model.getFrameId(frameName) for frameName in ['HR_FOOT','HL_FOOT','FR_FOOT','FL_FOOT' ] ]\n",
    "print(norm(qopt[3:7]))\n",
    "print(acos(qopt[3])*2)\n",
    "#print(len(robot.q0))\n",
    "#print(robot.q0)"
   ]
  },
  {
   "cell_type": "code",
   "execution_count": null,
   "metadata": {},
   "outputs": [],
   "source": [
    "p_i = pin.SE3ToXYZQUAT(robot.framePlacement(qopt, robot.feetIndexes[2]))\n",
    "p_i[2] = 0\n",
    "viz.applyConfiguration('world/%s'%colors[0], p_i)\n",
    "print(p_i)\n",
    "print(norm(robot.framePlacement(qopt, robot.feetIndexes[2]).rotation))"
   ]
  },
  {
   "cell_type": "code",
   "execution_count": null,
   "metadata": {},
   "outputs": [],
   "source": [
    "cost = 0.\n",
    "for i in range(4):\n",
    "    p_i = robot.framePlacement(qopt, robot.feetIndexes[i])\n",
    "    print(p_i.translation)\n",
    "    print(targets[i])\n",
    "    cost += norm(p_i.translation-targets[i])**2\n",
    "print(cost)\n",
    "print(norm(qopt[3:7]))"
   ]
  },
  {
   "cell_type": "markdown",
   "metadata": {},
   "source": [
    "\n",
    "Run the following code. Can you explain what just happened? Then correct it to have a proper optimization of ANYmal configuration."
   ]
  },
  {
   "cell_type": "code",
   "execution_count": null,
   "metadata": {},
   "outputs": [],
   "source": [
    "# %load -r 28- tp2/floating.py\n",
    "\n",
    "#robot.feetIndexes = [ robot.model.getFrameId(frameName) for frameName in ['HR_FOOT','HL_FOOT','FR_FOOT','FL_FOOT' ] ]\n",
    "\n",
    "# --- Add box to represent target\n",
    "colors = ['red','blue','green','magenta']\n",
    "for color in colors:\n",
    "    viz.addSphere(\"world/%s\"%color, .05, color)\n",
    "    viz.addSphere(\"world/%s_des\"%color, .05, color)\n",
    "\n",
    "#\n",
    "# OPTIM 6D #########################################################\n",
    "#\n",
    "\n",
    "targets = [\n",
    "    np.array(  [-0.7, -0.2,  1.2]),\n",
    "    np.array(  [-0.3,  0.5,  0.8]),\n",
    "    np.array(  [ 0.3,  0.1, -0.1]),\n",
    "    np.array(  [ 0.9,  0.9,  0.5])\n",
    "    ]\n",
    "\n",
    "for i in range(4):\n",
    "    targets[i] = robot.framePlacement(qopt, robot.feetIndexes[i]).translation\n",
    "    \n",
    "#targets = [\n",
    "#    np.array(  [-0.3141204, 0.06255256,1.7936871 ]),\n",
    "#    np.array(  [-0.3,  0.5,  0.8]),\n",
    "#    np.array(  [0.28843421, 0.15301477, 1.25817612]),\n",
    "#    np.array(  [0.52568868, 0.58443093, 1.54813337])\n",
    "#    ]\n",
    "for i in range(4): \n",
    "    targets[i][2]+=1\n",
    "   # viz.applyConfiguration('world/%s_des'%colors[i], list(targets[i])+[1,0,0,0])\n",
    "\n",
    "def cost(q):\n",
    "    '''Compute score from a configuration'''\n",
    "    cost = 0.\n",
    "    for i in range(4):\n",
    "        p_i = robot.framePlacement(q, robot.feetIndexes[i])\n",
    "        cost += norm(p_i.translation-targets[i])**2# + 10*(norm(q[3:7])- 1)**2\n",
    "    return cost\n",
    "\n",
    "def callback(q):\n",
    "    #viz.applyConfiguration('world/box', Mtarget)\n",
    "\n",
    "    for i in range(4):\n",
    "        p_i = robot.framePlacement(q, robot.feetIndexes[i])\n",
    "        viz.applyConfiguration('world/%s'%colors[i], p_i)\n",
    "        viz.applyConfiguration('world/%s_des'%colors[i], list(targets[i])+[1,0,0,0])\n",
    "\n",
    "    viz.display(q)\n",
    "    time.sleep(1e-1)\n",
    "    \n",
    "print(\"begin\")\n",
    "\n",
    "#Mtarget = pin.SE3(pin.utils.rotate('x',3.14/4), np.array([0.5, 0.1, 0.2]))  # x,y,z\n",
    "qopt = fmin_bfgs(cost, robot.q0, callback=callback)\n",
    "\n"
   ]
  },
  {
   "cell_type": "markdown",
   "metadata": {},
   "source": [
    "## Configuration of parallel robots\n",
    "A parallel robot is composed of several kinematic chains (called the robot legs) that are all attached to the same end effector. This imposes strict constraints in the configuration space of the robot: a configuration is valide iff all the legs meets the same end-effector placement. We consider here only the geometry aspect of parallel robots (additionnally, some joints are not actuated, which causes additional problems).\n",
    "\n",
    "The kinematic structure of a paralel robot indeed induces loops in the joint connection graph. In Pinocchio, we can only represents (one of) the underlying kinematic tree. The loop constraints have to be handled separately. An example that loads 4 manipulator arms is given below."
   ]
  },
  {
   "cell_type": "code",
   "execution_count": null,
   "metadata": {},
   "outputs": [],
   "source": [
    "import tp2.load_ur5_parallel as robex2\n",
    "robot = robex2.load()"
   ]
  },
  {
   "cell_type": "code",
   "execution_count": null,
   "metadata": {
    "scrolled": true
   },
   "outputs": [],
   "source": [
    "viz = MeshcatVisualizer(robot)\n",
    "viz.viewer.jupyter_cell()"
   ]
  },
  {
   "cell_type": "code",
   "execution_count": null,
   "metadata": {},
   "outputs": [],
   "source": [
    "viz.display(robot.q0)"
   ]
  },
  {
   "cell_type": "code",
   "execution_count": null,
   "metadata": {},
   "outputs": [],
   "source": [
    "[w, h, d] = [0.5, 0.5, 0.005]\n",
    "color = [red, green, blue, transparency] = [1, 1, 0.78, .8]\n",
    "viz.addBox('world/robot0/toolplate', [w, h, d], color)\n",
    "Mtool = pin.SE3(pin.utils.rotate('z', 1.268), np.array([0, 0, .75]))\n",
    "viz.applyConfiguration('world/robot0/toolplate', Mtool)"
   ]
  },
  {
   "cell_type": "markdown",
   "metadata": {},
   "source": [
    "The 4 legs of the robot are loaded in a single robot model. The 4 effector placements are computed by:"
   ]
  },
  {
   "cell_type": "code",
   "execution_count": null,
   "metadata": {
    "scrolled": true
   },
   "outputs": [],
   "source": [
    "effIdxs = [ robot.model.getFrameId('tool0_#%d' % i) for i in range(4)]\n",
    "robot.framePlacement(robot.q0,effIdxs[0])"
   ]
  },
  {
   "cell_type": "code",
   "execution_count": null,
   "metadata": {},
   "outputs": [],
   "source": [
    "from math import sqrt\n",
    "oMrs = [robot.framePlacement(robot.q0,effIdxs[i]) for i in range(4)]\n",
    "r0Mr1 = oMrs[0].inverse()*oMrs[1]\n",
    "r1Mr2 = oMrs[1].inverse()*oMrs[2]\n",
    "r2Mr3 = oMrs[2].inverse()*oMrs[3]\n",
    "r3Mr0 = oMrs[3].inverse()*oMrs[0]\n",
    "rsMbox = [oMrs[i].inverse()*Mtool for i in range(4)]"
   ]
  },
  {
   "cell_type": "markdown",
   "metadata": {},
   "source": [
    "The loop constraints are that the relative placement of every leg end-effector must stay the same that in the initial configuration given as example in with the configuration *robot.q0* and the plate placement *Mtool*. To be valid, a configuration *q* must satisfy these 4 relative placement constraints.\n",
    "\n",
    "Consider now that the orientation of the tool plate is given by the following quaternion, with the translation that you like (see [the notebook about rotations if you need more details](appendix1_quaternions.ipynb)): \n",
    "\n"
   ]
  },
  {
   "cell_type": "code",
   "execution_count": null,
   "metadata": {},
   "outputs": [],
   "source": [
    "from pinocchio import SE3, Quaternion\n",
    "quat = pin.Quaternion(0.7,0.2,0.2,0.6).normalized()\n",
    "print(quat.matrix())\n",
    "R  = quat.matrix()                # Create a rotation matrix from quaternion\n",
    "p  = np.array([0.,0.,0.75])     # Translation (R3) vector)\n",
    "M  = SE3(R,p)\n",
    "viz.applyConfiguration('world/robot0/toolplate', M)"
   ]
  },
  {
   "cell_type": "code",
   "execution_count": null,
   "metadata": {
    "scrolled": true
   },
   "outputs": [],
   "source": [
    "def cost(q):\n",
    "    '''Compute score from a configuration'''\n",
    "    cost = 0\n",
    "    oMrs = [robot.framePlacement(q,effIdxs[i]) for i in range(4)]\n",
    "    #cost += 100*norm(pin.log((oMrs[0].inverse() * oMrs[1]).inverse() * r0Mr1).vector)**2\n",
    "    #cost += 100*norm(pin.log((oMrs[1].inverse() * oMrs[2]).inverse() * r1Mr2).vector)**2\n",
    "    #cost += 100*norm(pin.log((oMrs[2].inverse() * oMrs[3]).inverse() * r2Mr3).vector)**2\n",
    "    #cost += 100*norm(pin.log((oMrs[3].inverse() * oMrs[0]).inverse() * r3Mr0).vector)**2\n",
    "    #cost = 0\n",
    "    for i in range(4):\n",
    "        cost += norm(pin.log((oMrs[i].inverse() * Mtarget).inverse() * rsMbox[i]).vector)\n",
    "        #cost += norm(pin.log(oMrs[i].inverse()*Mtarget).vector)\n",
    "    return cost\n",
    "\n",
    "def callback(q):\n",
    "    viz.display(q)\n",
    "    time.sleep(1e-1)\n",
    "\n",
    "Mtarget = SE3(R,p)\n",
    "qopt = fmin_bfgs(cost, robot.q0, callback=callback)\n",
    "\n",
    "print('The robot finally reached effector placement at\\n',robot.placement(qopt,6))"
   ]
  },
  {
   "cell_type": "code",
   "execution_count": null,
   "metadata": {},
   "outputs": [],
   "source": [
    "#Mtarget = Mtool\n",
    "print(cost(qopt))"
   ]
  }
 ],
 "metadata": {
  "kernelspec": {
   "display_name": "Python 3",
   "language": "python",
   "name": "python3"
  },
  "language_info": {
   "codemirror_mode": {
    "name": "ipython",
    "version": 3
   },
   "file_extension": ".py",
   "mimetype": "text/x-python",
   "name": "python",
   "nbconvert_exporter": "python",
   "pygments_lexer": "ipython3",
   "version": "3.6.9"
  }
 },
 "nbformat": 4,
 "nbformat_minor": 4
}
