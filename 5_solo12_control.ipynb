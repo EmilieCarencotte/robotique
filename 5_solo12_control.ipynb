{
 "cells": [
  {
   "cell_type": "markdown",
   "metadata": {},
   "source": [
    "# Controllers for Solo12\n",
    "This notebook will be used as a base to design controller to be executed on the Solo12 real quadruped robot."
   ]
  },
  {
   "cell_type": "code",
   "execution_count": 1,
   "metadata": {},
   "outputs": [],
   "source": [
    "import math\n",
    "import time\n",
    "from ipywidgets import interact\n",
    "from tp2.meshcat_viewer_wrapper import *\n",
    "%config Completer.use_jedi = False\n",
    "import numpy as np\n",
    "from numpy.linalg import norm,inv,pinv,svd,eig\n",
    "import matplotlib.pylab as plt\n",
    "plt.ion()\n",
    "np.set_printoptions(precision=3,suppress=True)\n",
    "from example_robot_data.robots_loader import Solo12Loader\n",
    "import pinocchio as pin\n",
    "Solo12Loader.free_flyer = False #Important, we are working with a fixed based model version (12dof)"
   ]
  },
  {
   "cell_type": "markdown",
   "metadata": {},
   "source": [
    "Let's load solo12 and setup a viewer"
   ]
  },
  {
   "cell_type": "code",
   "execution_count": 2,
   "metadata": {},
   "outputs": [
    {
     "name": "stdout",
     "output_type": "stream",
     "text": [
      "You can open the visualizer by visiting the following URL:\n",
      "http://127.0.0.1:7001/static/\n"
     ]
    }
   ],
   "source": [
    "robot = Solo12Loader().robot\n",
    "viz = MeshcatVisualizer(robot)\n",
    "#viz.initViewer(loadModel=True)\n",
    "#viz.viewer.jupyter_cell()\n",
    "q0 = robot.q0\n",
    "viz.display(q0)"
   ]
  },
  {
   "cell_type": "code",
   "execution_count": null,
   "metadata": {},
   "outputs": [],
   "source": [
    "# Add a red box in the viewer\n",
    "ballID = \"world/ball\"\n",
    "viz.addSphere( ballID, 0.05, colors.red )\n",
    "# Place the ball at the position ( 0.5, 0.1, 0.2 )\n",
    "# The viewer expect position and rotation, apppend the identity quaternion\n",
    "q_ball = [.35, 0.1, -0.3, 1, 0, 0, 0]\n",
    "viz.applyConfiguration( ballID, q_ball )\n",
    "K = 10.0\n",
    "r = .05"
   ]
  },
  {
   "cell_type": "markdown",
   "metadata": {},
   "source": [
    "Let us have some input control to vary the robot state (Front left foot - 3dof)"
   ]
  },
  {
   "cell_type": "code",
   "execution_count": null,
   "metadata": {},
   "outputs": [],
   "source": []
  },
  {
   "cell_type": "code",
   "execution_count": null,
   "metadata": {},
   "outputs": [],
   "source": [
    "def torqueController(q):\n",
    "    robot_pose = robot.framePlacement(q,robot.model.getFrameId('FL_FOOT'))\n",
    "    vec = q_ball[0:3]-robot_pose.translation\n",
    "    dist = np.linalg.norm(vec)\n",
    "    print(dist)\n",
    "    if (dist <= r):\n",
    "        fc = K*(dist-r)*vec/dist\n",
    "    else:\n",
    "        fc = np.zeros(3)\n",
    "    robot.forwardKinematics(q0)\n",
    "    robot.framesForwardKinematics(q0)\n",
    "    robot.computeJointJacobians(q0)\n",
    "    J = robot.getFrameJacobian(robot.model.getFrameId('FL_FOOT'),pin.LOCAL_WORLD_ALIGNED)[:3]\n",
    "    tau = np.transpose(J)@fc\n",
    "    print(tau)"
   ]
  },
  {
   "cell_type": "code",
   "execution_count": 8,
   "metadata": {},
   "outputs": [],
   "source": [
    "class Motor:\n",
    "    def __init__(self,dt,size):\n",
    "        self.dt = dt\n",
    "        #State variables\n",
    "        self.q =  np.zeros(size)#position de l'axe\n",
    "        self.dq = np.zeros(size) #vitesse de l'axe\n",
    "        self.ddq = np.zeros(size) #acceleration de l'axe\n",
    "        self.tau = np.zeros(size) #couple\n",
    "        \n",
    "        #Model Parameters\n",
    "        self.Kv = 1.0\n",
    "        self.J = 1.0\n",
    "        #self.retard = 1\n",
    "        \n",
    "        #self.previous_i = [0.0 for i in range(self.retard)]\n",
    "\n",
    "    def reset(self):\n",
    "        '''Reset all the internal state variable'''\n",
    "        self.q = np.zeros(size)\n",
    "        self.dq = np.zeros(size)\n",
    "        self.ddq = np.zeros(size)\n",
    "        self.tau = np.zeros(size)\n",
    "        \n",
    "        \n",
    "    def update(self,i):\n",
    "        #todo\n",
    "        self.tau = self.Kv * i\n",
    "        self.ddq = 1/self.J*self.tau\n",
    "        self.dq += self.ddq*self.dt\n",
    "        self.q += self.dq*self.dt                      \n",
    "    "
   ]
  },
  {
   "cell_type": "code",
   "execution_count": 55,
   "metadata": {},
   "outputs": [],
   "source": [
    "class Controller_copy:\n",
    "    def __init__(self,robot):\n",
    "        self.robot = robot\n",
    "        self.Kp = 10\n",
    "        self.Kd = 8\n",
    "    \n",
    "    def compute(self, q_mes, dq_mes):\n",
    "        i = np.zeros(12)\n",
    "        q_d = q_mes[:6]\n",
    "        dq_d = q_mes[:6]\n",
    "        i[6:] = self.Kp*(q_d - q_mes[6:]) + self.Kd*(0 - dq_mes[6:])\n",
    "        return i\n",
    "\n",
    "def copyPosition(q_copy, mots):\n",
    "    controller = Controller_copy(robot)\n",
    "    mots.q[:6] = q_copy[:6]\n",
    "    for j in range(200):\n",
    "        i = controller.compute(q_copy, mots.dq)\n",
    "        mots.update(i)\n",
    "        q_copy = mots.q\n",
    "    q = mots.q\n",
    "    return q"
   ]
  },
  {
   "cell_type": "code",
   "execution_count": 74,
   "metadata": {},
   "outputs": [
    {
     "data": {
      "application/vnd.jupyter.widget-view+json": {
       "model_id": "22c7749ca78d42d395c1e06497441e15",
       "version_major": 2,
       "version_minor": 0
      },
      "text/plain": [
       "interactive(children=(FloatSlider(value=0.0, description='HAA', max=1.0, min=-1.0, step=0.01), FloatSlider(val…"
      ]
     },
     "metadata": {},
     "output_type": "display_data"
    }
   ],
   "source": [
    "q0 = np.zeros(12)\n",
    "viz.display(q0)\n",
    "motors = Motor(0.01,12)\n",
    "@interact(HAA=(-1.0, 1.0, 0.01),HFE=(-1.0, 1.0, 0.01),KFE=(-1.0, 1.0, 0.01))\n",
    "def change_q(HAA=0.,HFE=0.,KFE=0.):\n",
    "    q0[0:3] = HAA,HFE,KFE\n",
    "    print(q0[0:3])\n",
    "    oMref_fl = robot.framePlacement(np.zeros(12),robot.model.getFrameId('FL_FOOT')).translation\n",
    "    oMref_hl = robot.framePlacement(np.zeros(12),robot.model.getFrameId('HL_FOOT')).translation\n",
    "    oMtarget_fl = robot.framePlacement(q0, robot.model.getFrameId('FL_FOOT')).translation\n",
    "    flMtarget_fl = oMtarget_fl - oMref_fl\n",
    "    oMtarget = oMref_hl + flMtarget_fl/2\n",
    "    q = inverseKin(q0, oMtarget)\n",
    "    viz.display(q)\n",
    "    print(q)"
   ]
  },
  {
   "cell_type": "code",
   "execution_count": 73,
   "metadata": {},
   "outputs": [],
   "source": [
    "# %load -r 36-62 tp3/inverse_kinematics.py\n",
    "def inverseKin(q,oMtarget):\n",
    "    herr = [] # Log the value of the error between tool and goal.\n",
    "# Loop on an inverse kinematics for 200 iterations.\n",
    "    for i in range(1):  # Integrate over 2 second of robot life\n",
    "\n",
    "    # Run the algorithms that outputs values in robot.data\n",
    "        robot.forwardKinematics(q0)\n",
    "        robot.framesForwardKinematics(q0)\n",
    "        robot.computeJointJacobians(q0)\n",
    "        o_Jtool3 = robot.getFrameJacobian(robot.model.getFrameId('HL_FOOT'),pin.LOCAL_WORLD_ALIGNED)[:3]\n",
    "        #print(o_Jtool3)\n",
    "        # Placement from world frame o to frame f oMtool\n",
    "        oMtool = robot.framePlacement(q,robot.model.getFrameId('HL_FOOT'))\n",
    "\n",
    "        # vector from tool to goal, in world frame\n",
    "        o_TG = oMtool.translation-oMtarget\n",
    "        # Control law by least square\n",
    "        vq = -pinv(o_Jtool3)@o_TG\n",
    "        q = pin.integrate(robot.model,q, vq * 1)\n",
    "        #viz.display(q)\n",
    "        time.sleep(1e-3)\n",
    "\n",
    "        herr.append(o_TG) \n",
    "    return q\n",
    "   # plt.plot(herr)"
   ]
  },
  {
   "cell_type": "code",
   "execution_count": null,
   "metadata": {},
   "outputs": [],
   "source": [
    "q = q0\n",
    "\n",
    "oMref_fl = robot.framePlacement(np.zeros(12),robot.model.getFrameId('FL_FOOT')).translation\n",
    "oMref_hl = robot.framePlacement(np.zeros(12),robot.model.getFrameId('HL_FOOT')).translation\n",
    "oMtarget_fl = robot.framePlacement(q, robot.model.getFrameId('FL_FOOT')).translation\n",
    "flMtarget_fl = oMtarget_fl - oMref_fl\n",
    "oMtarget = oMref_hl + flMtarget_fl/2\n",
    "print(oMref_fl)\n",
    "print(oMtarget_fl)\n",
    "print(flMtarget_fl)\n",
    "inverseKin(q0,q_ball[0:3])"
   ]
  },
  {
   "cell_type": "code",
   "execution_count": null,
   "metadata": {},
   "outputs": [],
   "source": []
  },
  {
   "cell_type": "code",
   "execution_count": null,
   "metadata": {},
   "outputs": [],
   "source": []
  },
  {
   "cell_type": "markdown",
   "metadata": {},
   "source": [
    "# Pinocchio cheat code"
   ]
  },
  {
   "cell_type": "markdown",
   "metadata": {},
   "source": [
    "Get the Jacobian of the Feet, expressed locally, aligned with the world:"
   ]
  },
  {
   "cell_type": "code",
   "execution_count": null,
   "metadata": {},
   "outputs": [],
   "source": [
    "robot.forwardKinematics(q0)\n",
    "robot.framesForwardKinematics(q0)\n",
    "robot.computeJointJacobians(q0)\n",
    "J = robot.getFrameJacobian(robot.model.getFrameId('FL_FOOT'),pin.LOCAL_WORLD_ALIGNED)[:3]\n",
    "print (J)"
   ]
  },
  {
   "cell_type": "code",
   "execution_count": null,
   "metadata": {},
   "outputs": [],
   "source": []
  }
 ],
 "metadata": {
  "kernelspec": {
   "display_name": "Python 3",
   "language": "python",
   "name": "python3"
  },
  "language_info": {
   "codemirror_mode": {
    "name": "ipython",
    "version": 3
   },
   "file_extension": ".py",
   "mimetype": "text/x-python",
   "name": "python",
   "nbconvert_exporter": "python",
   "pygments_lexer": "ipython3",
   "version": "3.6.9"
  }
 },
 "nbformat": 4,
 "nbformat_minor": 4
}
