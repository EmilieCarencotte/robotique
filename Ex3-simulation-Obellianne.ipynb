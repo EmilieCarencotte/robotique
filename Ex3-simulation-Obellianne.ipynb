{
 "cells": [
  {
   "cell_type": "code",
   "execution_count": 1,
   "metadata": {},
   "outputs": [],
   "source": [
    "import math\n",
    "import time\n",
    "import pinocchio as pin\n",
    "import numpy as np\n",
    "from numpy.random import rand\n",
    "from numpy.linalg import inv,pinv,norm,eig,svd\n",
    "import matplotlib.pylab as plt; plt.ion()\n",
    "import quadprog\n",
    "from tp6.robot_hand import RobotHand\n",
    "from tp6.meshcat_viewer_wrapper import MeshcatVisualizer\n",
    "from tp6.traj_ref import TrajRef"
   ]
  },
  {
   "cell_type": "code",
   "execution_count": 2,
   "metadata": {},
   "outputs": [],
   "source": [
    "robot=RobotHand()\n",
    "from tp6.collision_wrapper import CollisionWrapper\n",
    "colwrap = CollisionWrapper(robot)\n",
    "q0 = robot.q0.copy()"
   ]
  },
  {
   "cell_type": "code",
   "execution_count": 3,
   "metadata": {},
   "outputs": [],
   "source": [
    "def printDebug(J,vq,q):\n",
    "    print(\"J shape\" + str(J.shape))\n",
    "    print(\"dshape \" + str(d.shape))\n",
    "    print(\"jdotqdot term shape\" + str(np.squeeze(colwrap.getCollisionJdotQdot(actualActiveCollisionList).T,axis=0).shape))\n",
    "    print(\"kv term shape \" + str(np.array([KvCol*J@vq]).shape))\n",
    "    print(\"dist term shape\" + str(np.array([KpCol*dist]).shape))\n",
    "def printDebugShapes(A,b,C,d):\n",
    "    print(\"Ashape {}, b shape {}, c shape {}, d shape {}\".format(A.shape,b.shape,C.T.shape,d.shape))\n",
    "  "
   ]
  },
  {
   "cell_type": "code",
   "execution_count": 4,
   "metadata": {
    "scrolled": false
   },
   "outputs": [
    {
     "name": "stdout",
     "output_type": "stream",
     "text": [
      "You can open the visualizer by visiting the following URL:\n",
      "http://127.0.0.1:7001/static/\n"
     ]
    },
    {
     "data": {
      "text/html": [
       "\n",
       "            <div style=\"height: 400px; width: 100%; overflow-x: auto; overflow-y: hidden; resize: both\">\n",
       "            <iframe src=\"http://127.0.0.1:7001/static/\" style=\"width: 100%; height: 100%; border: none\"></iframe>\n",
       "            </div>\n",
       "            "
      ],
      "text/plain": [
       "<IPython.core.display.HTML object>"
      ]
     },
     "execution_count": 4,
     "metadata": {},
     "output_type": "execute_result"
    }
   ],
   "source": [
    "viz = MeshcatVisualizer(robot)\n",
    "viz.display(robot.q0)\n",
    "viz.viewer.jupyter_cell()\n"
   ]
  },
  {
   "cell_type": "code",
   "execution_count": 5,
   "metadata": {
    "scrolled": true
   },
   "outputs": [],
   "source": [
    "q = q0.copy()\n",
    "robot.q0 = q0.copy()\n",
    "viz.display(q0)\n",
    "vq= np.zeros(robot.model.nv)\n",
    "qdes = TrajRef(robot.q0,omega = np.array([0,0,1,0,4,2,1,0,2,2,0,0,0,3]),amplitude=1.6)\n",
    "\n",
    "Kp = np.full(shape=(robot.model.nq),fill_value=500)\n",
    "Kp[0] = 2000 # increase gain for wrist\n",
    "Kv = 2*np.sqrt(Kp)\n",
    "KpCol = -2e5\n",
    "KvCol = 2*math.sqrt(abs(KpCol))\n",
    "dt = 1e-3\n",
    "hq = []\n",
    "hqdes = []\n",
    "realTime = []\n",
    "actualActiveCollisionList = []\n",
    "\n",
    "def updateJdist(colwrap,collisionList,q,vq):\n",
    "    colwrap.computeCollisions(q,vq)\n",
    "    return colwrap.getCollisionJacobian(collisionList),colwrap.getCollisionDistances(collisionList)\n",
    "  \n",
    "lastTime = time.time()\n",
    "for it in range(6000):\n",
    "    t = it*dt\n",
    "    b = pin.rnea(robot.model,robot.data,q,vq,np.zeros(robot.model.nv))  # compute dynamic drift -- Coriolis, centrifugal, gravity\n",
    "    M = pin.crba(robot.model,robot.data,q)         # compute mass matrix M\n",
    "    \n",
    "    qobj = qdes(t)\n",
    "    tauq = - Kp * (q-qobj) - Kv *(vq-qdes.velocity(t)) + qdes.acceleration(t)\n",
    "\n",
    "    colwrap.computeCollisions(q,vq)\n",
    "    collisions = colwrap.getCollisionList()\n",
    "    J,dist = updateJdist(colwrap,collisions,q,vq)\n",
    "      \n",
    "    isCollision = False\n",
    "    isNewCollision = False\n",
    "    oldCollisionList = actualActiveCollisionList\n",
    "    actualActiveCollisionList = []\n",
    "    for col in range(len(dist)):\n",
    "        if (dist[col] < 1e-3): # si les objets en collision sont trop proches\n",
    "            isCollision = True\n",
    "            actualActiveCollisionList.append(collisions[col])\n",
    "            if collisions[col][1] not in oldCollisionList : # nouvelle collision non présente à la dernière itération\n",
    "                    isNewCollision = True\n",
    "                    newCollisionIndex = col\n",
    "                    distNewCollision = dist[col]\n",
    "        \n",
    "    \n",
    "    if not isCollision:\n",
    "        aq = inv(M) @ (tauq - b)\n",
    "    else:\n",
    "        aqb = inv(M) @ (tauq - b)\n",
    "        A = M\n",
    "        b = np.zeros(robot.model.nq)        \n",
    "        d = -J@aqb        \n",
    "        if isNewCollision:\n",
    "            try:\n",
    "                J,dist = updateJdist(colwrap,actualActiveCollisionList,q,vq)\n",
    "                vq = (np.eye(robot.model.nq) - pinv(J)@J)@vq # enforce null normal speed at contact\n",
    "                J,dist = updateJdist(colwrap,actualActiveCollisionList,q,vq)\n",
    "                # we stack d to enforce all collisions\n",
    "                d -= np.squeeze(colwrap.getCollisionJdotQdot(actualActiveCollisionList).T,axis=0)\n",
    "                d -= np.array(KpCol*dist)\n",
    "                d -= np.array(KvCol*J@vq)\n",
    "            except :\n",
    "                printDebug(J,vq,q)\n",
    "                raise\n",
    "                \n",
    "            \n",
    "        \n",
    "        #we stack jacobian and d values :\n",
    "        #C = np.expand_dims(np.sum(J,axis=0),axis=0)\n",
    "        #d = np.sum(d,axis=1)  \n",
    "        # J'ai pas réussi à le faire marcher dans le cas où il y a plusieurs collisions, donc on gère que la 1e\n",
    "        C = J\n",
    "        try :    \n",
    "            [alpha,cost,_,niter,lag,iact] = quadprog.solve_qp(A,b,C.T,d)  # Notice that C.T is passed instead of C\n",
    "        except :\n",
    "            raise\n",
    "        aq=aqb + alpha\n",
    "    vq += aq*dt\n",
    "    q = pin.integrate(robot.model,q,vq*dt)\n",
    "    hq.append(q.copy())\n",
    "    hqdes.append(qobj.copy())\n",
    "    realTime.append(time.time())\n",
    "    if it%20 == 0:\n",
    "        viz.display(q)\n",
    "        waitTime = 20*dt-( time.time()-lastTime )\n",
    "        if waitTime > 0:\n",
    "            time.sleep(waitTime)\n",
    "        \n",
    "\n",
    "                "
   ]
  },
  {
   "cell_type": "code",
   "execution_count": 11,
   "metadata": {
    "scrolled": false
   },
   "outputs": [
    {
     "data": {
      "text/plain": [
       "Text(0.5,0,'Iterations')"
      ]
     },
     "execution_count": 11,
     "metadata": {},
     "output_type": "execute_result"
    },
    {
     "data": {
      "image/png": "[encoded data removed]",
      "text/plain": [
       "<matplotlib.figure.Figure at 0x7f454a409b00>"
      ]
     },
     "metadata": {
      "needs_background": "light"
     },
     "output_type": "display_data"
    }
   ],
   "source": [
    "plt.subplot(221)\n",
    "plt.plot([q[2] for q in hq],label=\"state\")\n",
    "plt.plot([q[2] for q in hqdes],label=\"objective\")\n",
    "plt.ylabel('Joint #2')\n",
    "plt.legend()\n",
    "plt.subplot(222)\n",
    "plt.plot([q[3] for q in hq],label=\"state\")\n",
    "plt.plot([q[3] for q in hqdes],label=\"objective\");\n",
    "plt.ylabel('Joint #3')\n",
    "plt.legend()\n",
    "plt.xlabel('Iterations')\n",
    "plt.subplot(223)\n",
    "#plt.plot([t-realTime[0] for t in realTime],label=\"realTime\")\n",
    "plt.plot([t-realTime[index+1 if index+1 < len(realTime) else index] for index,t in enumerate(realTime)],label=\"time by iteration\")\n",
    "plt.ylabel('Time evolution')\n",
    "plt.legend()\n",
    "plt.subplot(224)\n",
    "plt.plot([q[0] for q in hq],label=\"state\")\n",
    "plt.plot([q[0] for q in hqdes],label=\"objective\");\n",
    "plt.ylabel('Joint #0')\n",
    "plt.legend()\n",
    "plt.xlabel('Iterations')"
   ]
  },
  {
   "cell_type": "markdown",
   "metadata": {},
   "source": [
    "We can observe the collision. The graph time evolution show that the evolution of time is not linear : the simulation slows down when there is collision (because there is more work to do)"
   ]
  },
  {
   "cell_type": "markdown",
   "metadata": {},
   "source": [
    "## Calculs pour QuadProg/joint acceleration\n",
    "\n",
    "The joint acceleration is constrained by the contact constraint. It can be written as a minimization problem using Gauss principle\n",
    "$$min \\quad \\frac{1}{2}  (\\ddot{q} - \\ddot{q}_0 )^T M (\\ddot{q} - \\ddot{q}_0 )$$\n",
    "$$s.t. \\quad J \\ddot{q} >= 0 $$\n",
    "where $ \\ddot{q}_0 = M^{-1} (\\tau-b)$ is the free acceleration, i.e. the acceleration obtained in Question 2 where no constraint is active.\n",
    "\n",
    "$$min \\quad \\frac{1}{2}  (\\ddot{q}- \\ddot{q}_0 )^T M (\\ddot{q} - \\ddot{q}_0 )$$\n",
    "$$s.t. \\quad J (\\ddot{q}-\\ddot{q}_0 +\\ddot{q}_0 ) >= 0 $$\n",
    "\n",
    "where $\\alpha = \\ddot{q}-\\ddot{q}_0$ so\n",
    "\n",
    "$$min \\quad \\frac{1}{2}  (\\alpha)^T M (\\alpha)$$\n",
    "$$s.t. \\quad J (\\alpha +\\ddot{q}_0 ) >= 0 $$\n",
    "\n",
    "\n",
    "$$min \\quad \\frac{1}{2}  (\\alpha)^T M (\\alpha)$$\n",
    "$$s.t. \\quad J \\alpha  >= -J \\ddot{q}_0  $$\n",
    "\n",
    "By adding PD penetration corrector, we have\n",
    "\n",
    "Final formula : \n",
    "\n",
    "\n",
    "$$min \\quad \\frac{1}{2}  (\\alpha)^T M (\\alpha)$$\n",
    "$$s.t. \\quad J \\alpha  >= -J \\ddot{q}_0 -\\dot{J}\\dot{q} -K_p dist -K_v J \\dot{q} $$\n",
    "where $\\ddot{q} =\\alpha+\\ddot{q}_0$ "
   ]
  }
 ],
 "metadata": {
  "kernelspec": {
   "display_name": "Python 3",
   "language": "python",
   "name": "python3"
  },
  "language_info": {
   "codemirror_mode": {
    "name": "ipython",
    "version": 3
   },
   "file_extension": ".py",
   "mimetype": "text/x-python",
   "name": "python",
   "nbconvert_exporter": "python",
   "pygments_lexer": "ipython3",
   "version": "3.6.9"
  }
 },
 "nbformat": 4,
 "nbformat_minor": 4
}
